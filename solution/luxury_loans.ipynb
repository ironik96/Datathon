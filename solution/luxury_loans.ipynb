{
 "cells": [
  {
   "cell_type": "markdown",
   "metadata": {},
   "source": [
    "# Luxury Loan Portfolio Path"
   ]
  },
  {
   "cell_type": "code",
   "execution_count": 102,
   "metadata": {},
   "outputs": [],
   "source": [
    "import pandas as pd\n",
    "import matplotlib\n",
    "import numpy as np\n",
    "import sklearn\n",
    "from sklearn import svm\n",
    "from sklearn import metrics\n",
    "from sklearn import ensemble\n",
    "from sklearn import preprocessing\n",
    "from sklearn.model_selection import cross_val_score"
   ]
  },
  {
   "cell_type": "code",
   "execution_count": 3,
   "metadata": {},
   "outputs": [],
   "source": [
    "df_acct = pd.read_csv('data-set/completedacct.csv')\n",
    "df_card = pd.read_csv('data-set/completedcard.csv')\n",
    "df_client = pd.read_csv('data-set/completedclient.csv')\n",
    "df_disposition = pd.read_csv('data-set/completeddisposition.csv')\n",
    "df_district = pd.read_csv('data-set/completeddistrict.csv')\n",
    "df_loan = pd.read_csv('data-set/completedloan.csv')\n",
    "df_order = pd.read_csv('data-set/completedorder.csv')\n",
    "df_trans = pd.read_csv('data-set/completedtrans.csv', low_memory=False)\n",
    "# df_crm_call = pd.read_csv('data-set/CRM Call Center Logs.csv')\n",
    "# df_crm_events = pd.read_csv('data-set/CRM Events.csv')\n",
    "# df_crm_reviews = pd.read_csv('data-set/CRM Reviews.csv')\n",
    "df_luxury_loans = pd.read_csv('data-set/LuxuryLoanPortfolio.csv')"
   ]
  },
  {
   "cell_type": "markdown",
   "metadata": {},
   "source": [
    "#### Level 1: Exploring (1 point per task)"
   ]
  },
  {
   "cell_type": "markdown",
   "metadata": {},
   "source": [
    "1. What are the min, max, and median funded amounts?"
   ]
  },
  {
   "cell_type": "code",
   "execution_count": 235,
   "metadata": {},
   "outputs": [
    {
     "name": "stdout",
     "output_type": "stream",
     "text": [
      "min: 440000.0, max: 156000000.0, median 1490000.0\n"
     ]
    }
   ],
   "source": [
    "min_funded_amount = df_luxury_loans.funded_amount.min()\n",
    "max_funded_amount = df_luxury_loans.funded_amount.max()\n",
    "median_funded_amount = df_luxury_loans.funded_amount.median()\n",
    "print(\"min: {}, max: {}, median {}\".format(min_funded_amount, max_funded_amount, median_funded_amount))"
   ]
  },
  {
   "cell_type": "markdown",
   "metadata": {},
   "source": [
    "2. What are the min, max, and average interest rates?"
   ]
  },
  {
   "cell_type": "code",
   "execution_count": 7,
   "metadata": {},
   "outputs": [
    {
     "name": "stdout",
     "output_type": "stream",
     "text": [
      "min: 0.02648, max: 0.04828, average 0.037875\n"
     ]
    }
   ],
   "source": [
    "min_interest_rate = df_luxury_loans['interest rate'].min()\n",
    "max_interest_rate = df_luxury_loans['interest rate'].max()\n",
    "average_interest_rate = df_luxury_loans['interest rate'].median()\n",
    "print(\"min: {}, max: {}, average {}\".format(min_interest_rate, max_interest_rate, average_interest_rate))"
   ]
  },
  {
   "cell_type": "markdown",
   "metadata": {},
   "source": [
    "3. What are the min, max, and median, average property value?"
   ]
  },
  {
   "cell_type": "code",
   "execution_count": 8,
   "metadata": {},
   "outputs": [
    {
     "name": "stdout",
     "output_type": "stream",
     "text": [
      "min: 473200.0, max: 156020900.0, median 1653925.0\n"
     ]
    }
   ],
   "source": [
    "min_propery_value = df_luxury_loans['property value'].min()\n",
    "max_propery_value = df_luxury_loans['property value'].max()\n",
    "median_propery_value = df_luxury_loans['property value'].median()\n",
    "print(\"min: {}, max: {}, median {}\".format(min_propery_value, max_propery_value, median_propery_value))"
   ]
  },
  {
   "cell_type": "markdown",
   "metadata": {},
   "source": [
    "4. What are the different “durations months” for the loans and how many loans are under each one?"
   ]
  },
  {
   "cell_type": "code",
   "execution_count": 9,
   "metadata": {},
   "outputs": [
    {
     "data": {
      "text/plain": [
       "360    1369\n",
       "180     255\n",
       "240      48\n",
       "120       6\n",
       "Name: duration months, dtype: int64"
      ]
     },
     "execution_count": 9,
     "metadata": {},
     "output_type": "execute_result"
    }
   ],
   "source": [
    "df_luxury_loans['duration months'].value_counts()"
   ]
  },
  {
   "cell_type": "markdown",
   "metadata": {},
   "source": [
    "5. What are the different purposes for the luxury loans and how many loans are there per purpose?"
   ]
  },
  {
   "cell_type": "code",
   "execution_count": 10,
   "metadata": {},
   "outputs": [
    {
     "data": {
      "text/plain": [
       "investment property    536\n",
       "home                   533\n",
       "commerical property    520\n",
       "boat                    62\n",
       "plane                   27\n",
       "Name: purpose, dtype: int64"
      ]
     },
     "execution_count": 10,
     "metadata": {},
     "output_type": "execute_result"
    }
   ],
   "source": [
    "df_luxury_loans.purpose.value_counts()"
   ]
  },
  {
   "cell_type": "markdown",
   "metadata": {},
   "source": [
    "6. What are the 3 most common “total units” found in a property?"
   ]
  },
  {
   "cell_type": "code",
   "execution_count": 12,
   "metadata": {},
   "outputs": [
    {
     "data": {
      "text/plain": [
       "1    1189\n",
       "4     161\n",
       "6     107\n",
       "Name: TOTAL UNITS, dtype: int64"
      ]
     },
     "execution_count": 12,
     "metadata": {},
     "output_type": "execute_result"
    }
   ],
   "source": [
    "df_luxury_loans['TOTAL UNITS'].value_counts()[:3]"
   ]
  },
  {
   "cell_type": "markdown",
   "metadata": {},
   "source": [
    "7. What are the 3 most common “building class categories” loans are taken for?"
   ]
  },
  {
   "cell_type": "code",
   "execution_count": 14,
   "metadata": {},
   "outputs": [
    {
     "data": {
      "text/plain": [
       "15 CONDOS - 2-10 UNIT RESIDENTIAL              466\n",
       "07 RENTALS - WALKUP APARTMENTS                 367\n",
       "04 TAX CLASS 1 CONDOS                          348\n",
       "Name: BUILDING CLASS CATEGORY, dtype: int64"
      ]
     },
     "execution_count": 14,
     "metadata": {},
     "output_type": "execute_result"
    }
   ],
   "source": [
    "df_luxury_loans['BUILDING CLASS CATEGORY'].value_counts()[:3]"
   ]
  },
  {
   "cell_type": "markdown",
   "metadata": {},
   "source": [
    "### Level 2: Analyzing (3 points per task)"
   ]
  },
  {
   "cell_type": "markdown",
   "metadata": {},
   "source": [
    "1. Create bins for property value:\n",
    "   a. '-1M'\n",
    "   b. '1M-2M'\n",
    "   c. '2M-3M'\n",
    "   d. '3M+'"
   ]
  },
  {
   "cell_type": "code",
   "execution_count": 75,
   "metadata": {},
   "outputs": [
    {
     "data": {
      "text/plain": [
       "1M-2M    942\n",
       "-1M      285\n",
       "2M-3M    227\n",
       "3M+      224\n",
       "Name: property value, dtype: int64"
      ]
     },
     "execution_count": 75,
     "metadata": {},
     "output_type": "execute_result"
    }
   ],
   "source": [
    "bins = [0, 1000000, 2000000, 3000000, np.inf]\n",
    "labels = ['a','b','c','d']\n",
    "pd.cut(df_luxury_loans['property value'], bins=bins, labels=labels).value_counts()"
   ]
  },
  {
   "cell_type": "markdown",
   "metadata": {},
   "source": [
    "2. Create bins for employment length:\n",
    "   a. '-5'\n",
    "   b. '5-10'\n",
    "   c. '10-15'\n",
    "   d. '15+'"
   ]
  },
  {
   "cell_type": "code",
   "execution_count": 236,
   "metadata": {},
   "outputs": [
    {
     "name": "stdout",
     "output_type": "stream",
     "text": [
      "-5 378\n",
      "5-10 466\n",
      "10-15 495\n",
      "15+ 330\n"
     ]
    }
   ],
   "source": [
    "bins = [0, 5, 10, 15, np.inf]\n",
    "df_luxury_loans['employment_length'] = df_luxury_loans['employment length']\n",
    "less_than_five = df_luxury_loans.query('employment_length < 5')\n",
    "less_than_10 = df_luxury_loans.query('employment_length < 10 and employment_length >= 5').value_counts()\n",
    "less_than_15 = df_luxury_loans.query('employment_length >= 10 and employment_length < 15').value_counts()\n",
    "greater_than_15 = df_luxury_loans.query('employment_length >= 15 ').value_counts()\n",
    "\n",
    "print('-5 {}'.format(len(less_than_five.index)))\n",
    "print('5-10 {}'.format(len(less_than_10.index)))\n",
    "print('10-15 {}'.format(len(less_than_15.index)))\n",
    "print('15+ {}'.format(len(greater_than_15.index)))\n",
    "\n",
    "# labels = ['-5','5-10','10-15','15+']\n",
    "# pd.cut(df_luxury_loans['employment length'], bins=bins, labels=labels, include_lowest=True).value_counts()"
   ]
  },
  {
   "cell_type": "markdown",
   "metadata": {},
   "source": [
    "3. Analyze how interest rates differ according to different loan purposes. Visualize this."
   ]
  },
  {
   "cell_type": "code",
   "execution_count": 47,
   "metadata": {},
   "outputs": [
    {
     "data": {
      "text/plain": [
       "purpose\n",
       "boat                   0.035920\n",
       "commerical property    0.037825\n",
       "home                   0.038190\n",
       "investment property    0.037735\n",
       "plane                  0.035990\n",
       "Name: interest rate, dtype: float64"
      ]
     },
     "execution_count": 47,
     "metadata": {},
     "output_type": "execute_result"
    }
   ],
   "source": [
    "interest_rates = df_luxury_loans.groupby('purpose')\n",
    "interest_rates['interest rate'].median().plot.bar()\n",
    "interest_rates['interest rate'].median()"
   ]
  },
  {
   "cell_type": "markdown",
   "metadata": {},
   "source": [
    "4. Identify the building class category that is most profitable.\n",
    "    a. Using funded amount and interest rate"
   ]
  },
  {
   "cell_type": "code",
   "execution_count": 74,
   "metadata": {},
   "outputs": [
    {
     "data": {
      "text/plain": [
       "BUILDING CLASS CATEGORY\n",
       "15 CONDOS - 2-10 UNIT RESIDENTIAL              3.408544e+07\n",
       "Name: profit, dtype: float64"
      ]
     },
     "execution_count": 74,
     "metadata": {},
     "output_type": "execute_result"
    }
   ],
   "source": [
    "df_luxury_loans['profit'] = df_luxury_loans.funded_amount.mul(df_luxury_loans['interest rate'])\n",
    "df_luxury_loans.groupby('BUILDING CLASS CATEGORY').profit.sum().nlargest(1)\n"
   ]
  },
  {
   "cell_type": "markdown",
   "metadata": {},
   "source": [
    "5. Which \"purpose\" generates the most value?"
   ]
  },
  {
   "cell_type": "code",
   "execution_count": 53,
   "metadata": {},
   "outputs": [
    {
     "data": {
      "text/plain": [
       "purpose\n",
       "investment property    1.026654e+09\n",
       "Name: property value, dtype: float64"
      ]
     },
     "execution_count": 53,
     "metadata": {},
     "output_type": "execute_result"
    }
   ],
   "source": [
    "df_luxury_loans.groupby('purpose')['property value'].sum().nlargest(1)"
   ]
  },
  {
   "cell_type": "markdown",
   "metadata": {},
   "source": [
    "### Level 3: Modeling"
   ]
  },
  {
   "cell_type": "markdown",
   "metadata": {},
   "source": [
    "1. Create a model to predict the “property value” (15 points)\n",
    "   a. Try out at least 3 different models, and comment on why you chose these models \n",
    "   b. Measure accuracy (at least one model should have accuracy of 80% or higher) "
   ]
  },
  {
   "cell_type": "markdown",
   "metadata": {},
   "source": [
    "Clean up data before modelling"
   ]
  },
  {
   "cell_type": "code",
   "execution_count": 173,
   "metadata": {},
   "outputs": [
    {
     "name": "stderr",
     "output_type": "stream",
     "text": [
      "/var/folders/0m/yz0zvmgd5p9cy9bpc347rm880000gn/T/ipykernel_32335/2622597757.py:18: FutureWarning: In a future version of pandas all arguments of DataFrame.drop except for the argument 'labels' will be keyword-only.\n",
      "  X = luxury_loan_data.drop([predict], 1)\n"
     ]
    }
   ],
   "source": [
    "luxury_loan_data = pd.read_csv('data-set/LuxuryLoanPortfolio.csv')\n",
    "del luxury_loan_data['loan_id']\n",
    "del luxury_loan_data['funded_date']\n",
    "del luxury_loan_data['firstname']\n",
    "del luxury_loan_data['middlename']\n",
    "del luxury_loan_data['lastname']\n",
    "del luxury_loan_data['social']\n",
    "del luxury_loan_data['phone']\n",
    "\n",
    "bins = [0, 1000000, 2000000, 3000000, np.inf]\n",
    "labels = ['a','b','c','d']\n",
    "luxury_loan_data['property value'] = pd.cut(luxury_loan_data['property value'], bins=bins, labels=labels, include_lowest=True)\n",
    "\n",
    "\n",
    "property = luxury_loan_data['property value']\n",
    "predict = 'property value'\n",
    "\n",
    "X = luxury_loan_data.drop([predict], 1)\n",
    "\n",
    "le = preprocessing.LabelEncoder()\n",
    "X['purpose'] = le.fit_transform(X.purpose.values)\n",
    "X['title'] = le.fit_transform(X.title.values)\n",
    "X['BUILDING CLASS CATEGORY'] = le.fit_transform(X['BUILDING CLASS CATEGORY'].values)\n",
    "X['TAX CLASS AT PRESENT'] = le.fit_transform(X['TAX CLASS AT PRESENT'].values)\n",
    "X['BUILDING CLASS AT PRESENT'] = le.fit_transform(X['BUILDING CLASS AT PRESENT'].values)\n",
    "X['ADDRESS 1'] = le.fit_transform(X['ADDRESS 1'].values)\n",
    "X['ADDRESS 2'] = le.fit_transform(X['ADDRESS 2'].values)\n",
    "X['CITY'] = le.fit_transform(X['CITY'].values)\n",
    "X['STATE'] = le.fit_transform(X['STATE'].values)\n",
    "X['LAND SQUARE FEET'] = X['LAND SQUARE FEET'].replace(' -  ', 0)\n",
    "X['GROSS SQUARE FEET'] = X['GROSS SQUARE FEET'].replace(' -  ', 0)\n",
    "\n",
    "y = property\n",
    "\n",
    "classes = property.unique()\n"
   ]
  },
  {
   "cell_type": "markdown",
   "metadata": {},
   "source": [
    "Get our selector and divide the data"
   ]
  },
  {
   "cell_type": "code",
   "execution_count": 174,
   "metadata": {},
   "outputs": [],
   "source": [
    "from sklearn.feature_selection import SelectKBest, chi2\n",
    "selector = SelectKBest(chi2, k=6)\n",
    "selector.fit_transform(X, y)\n",
    "\n",
    "params = selector.get_support()\n",
    "\n",
    "\n",
    "new_X = X[X.columns[params]]\n",
    "\n",
    "\n",
    "x_train, x_test, y_train, y_test = sklearn.model_selection.train_test_split(new_X, y, test_size=0.3)"
   ]
  },
  {
   "cell_type": "markdown",
   "metadata": {},
   "source": [
    "### Get the classifier"
   ]
  },
  {
   "cell_type": "markdown",
   "metadata": {},
   "source": [
    "Random Forest Classifier"
   ]
  },
  {
   "cell_type": "code",
   "execution_count": 175,
   "metadata": {},
   "outputs": [
    {
     "name": "stdout",
     "output_type": "stream",
     "text": [
      "93.45238095238095\n"
     ]
    }
   ],
   "source": [
    "clf = ensemble.RandomForestClassifier(n_estimators=120, max_depth=5)\n",
    "clf.fit(x_train, y_train)\n",
    "\n",
    "y_pred = clf.predict(x_test)\n",
    "\n",
    "acc = metrics.accuracy_score(y_test, y_pred)\n",
    "\n",
    "print(acc * 100)"
   ]
  },
  {
   "cell_type": "markdown",
   "metadata": {},
   "source": [
    "Linear Regression"
   ]
  },
  {
   "cell_type": "code",
   "execution_count": 177,
   "metadata": {},
   "outputs": [
    {
     "name": "stdout",
     "output_type": "stream",
     "text": [
      "Coefficients: \n",
      " [ 1.11745601 -6.17078755 -0.11270662 -1.45668499  0.69700393 -0.04134281]\n",
      "Mean squared error: 32917659685.17\n",
      "Coefficient of determination: 1.00\n"
     ]
    },
    {
     "name": "stderr",
     "output_type": "stream",
     "text": [
      "/var/folders/0m/yz0zvmgd5p9cy9bpc347rm880000gn/T/ipykernel_32335/3196728133.py:15: FutureWarning: In a future version of pandas all arguments of DataFrame.drop except for the argument 'labels' will be keyword-only.\n",
      "  X = luxury_loan_data.drop([predict], 1)\n"
     ]
    }
   ],
   "source": [
    "from sklearn.metrics import mean_squared_error, r2_score\n",
    "\n",
    "luxury_loan_data = pd.read_csv('data-set/LuxuryLoanPortfolio.csv')\n",
    "del luxury_loan_data['loan_id']\n",
    "del luxury_loan_data['funded_date']\n",
    "del luxury_loan_data['firstname']\n",
    "del luxury_loan_data['middlename']\n",
    "del luxury_loan_data['lastname']\n",
    "del luxury_loan_data['social']\n",
    "del luxury_loan_data['phone']\n",
    "\n",
    "property = luxury_loan_data['property value']\n",
    "predict = 'property value'\n",
    "\n",
    "X = luxury_loan_data.drop([predict], 1)\n",
    "\n",
    "le = preprocessing.LabelEncoder()\n",
    "X['purpose'] = le.fit_transform(X.purpose.values)\n",
    "X['title'] = le.fit_transform(X.title.values)\n",
    "X['BUILDING CLASS CATEGORY'] = le.fit_transform(X['BUILDING CLASS CATEGORY'].values)\n",
    "X['TAX CLASS AT PRESENT'] = le.fit_transform(X['TAX CLASS AT PRESENT'].values)\n",
    "X['BUILDING CLASS AT PRESENT'] = le.fit_transform(X['BUILDING CLASS AT PRESENT'].values)\n",
    "X['ADDRESS 1'] = le.fit_transform(X['ADDRESS 1'].values)\n",
    "X['ADDRESS 2'] = le.fit_transform(X['ADDRESS 2'].values)\n",
    "X['CITY'] = le.fit_transform(X['CITY'].values)\n",
    "X['STATE'] = le.fit_transform(X['STATE'].values)\n",
    "X['LAND SQUARE FEET'] = X['LAND SQUARE FEET'].replace(' -  ', 0)\n",
    "X['GROSS SQUARE FEET'] = X['GROSS SQUARE FEET'].replace(' -  ', 0)\n",
    "\n",
    "y = property\n",
    "\n",
    "classes = property.unique()\n",
    "\n",
    "\n",
    "from sklearn.feature_selection import SelectKBest, chi2\n",
    "selector = SelectKBest(chi2, k=6)\n",
    "selector.fit_transform(X, y)\n",
    "\n",
    "params = selector.get_support()\n",
    "\n",
    "\n",
    "new_X = X[X.columns[params]]\n",
    "\n",
    "\n",
    "x_train, x_test, y_train, y_test = sklearn.model_selection.train_test_split(new_X, y, test_size=0.3)\n",
    "\n",
    "\n",
    "clf = sklearn.linear_model.LinearRegression()\n",
    "clf.fit(x_train, y_train)\n",
    "\n",
    "y_pred = clf.predict(x_test)\n",
    "\n",
    "# The coefficients\n",
    "print(\"Coefficients: \\n\", clf.coef_)\n",
    "# The mean squared error\n",
    "print(\"Mean squared error: %.2f\" % mean_squared_error(y_test, y_pred))\n",
    "\n",
    "print(\"Coefficient of determination: %.2f\" % r2_score(y_test, y_pred))"
   ]
  },
  {
   "cell_type": "markdown",
   "metadata": {},
   "source": [
    "Tweedie Regressor"
   ]
  },
  {
   "cell_type": "code",
   "execution_count": 178,
   "metadata": {},
   "outputs": [
    {
     "name": "stdout",
     "output_type": "stream",
     "text": [
      "Coefficients: \n",
      " [0. 0. 0. 0. 0. 0.]\n",
      "Mean squared error: 1319337816504.40\n",
      "Coefficient of determination: -0.01\n"
     ]
    },
    {
     "name": "stderr",
     "output_type": "stream",
     "text": [
      "/var/folders/0m/yz0zvmgd5p9cy9bpc347rm880000gn/T/ipykernel_32335/1258204123.py:15: FutureWarning: In a future version of pandas all arguments of DataFrame.drop except for the argument 'labels' will be keyword-only.\n",
      "  X = luxury_loan_data.drop([predict], 1)\n",
      "/Users/faaatman/Desktop/GulfBank-Datathon/Datathon/.venv/lib/python3.9/site-packages/sklearn/linear_model/_linear_loss.py:200: RuntimeWarning: invalid value encountered in matmul\n",
      "  grad[:n_features] = X.T @ grad_per_sample + l2_reg_strength * weights\n"
     ]
    }
   ],
   "source": [
    "from sklearn.metrics import mean_squared_error, r2_score\n",
    "\n",
    "luxury_loan_data = pd.read_csv('data-set/LuxuryLoanPortfolio.csv')\n",
    "del luxury_loan_data['loan_id']\n",
    "del luxury_loan_data['funded_date']\n",
    "del luxury_loan_data['firstname']\n",
    "del luxury_loan_data['middlename']\n",
    "del luxury_loan_data['lastname']\n",
    "del luxury_loan_data['social']\n",
    "del luxury_loan_data['phone']\n",
    "\n",
    "property = luxury_loan_data['property value']\n",
    "predict = 'property value'\n",
    "\n",
    "X = luxury_loan_data.drop([predict], 1)\n",
    "\n",
    "le = preprocessing.LabelEncoder()\n",
    "X['purpose'] = le.fit_transform(X.purpose.values)\n",
    "X['title'] = le.fit_transform(X.title.values)\n",
    "X['BUILDING CLASS CATEGORY'] = le.fit_transform(X['BUILDING CLASS CATEGORY'].values)\n",
    "X['TAX CLASS AT PRESENT'] = le.fit_transform(X['TAX CLASS AT PRESENT'].values)\n",
    "X['BUILDING CLASS AT PRESENT'] = le.fit_transform(X['BUILDING CLASS AT PRESENT'].values)\n",
    "X['ADDRESS 1'] = le.fit_transform(X['ADDRESS 1'].values)\n",
    "X['ADDRESS 2'] = le.fit_transform(X['ADDRESS 2'].values)\n",
    "X['CITY'] = le.fit_transform(X['CITY'].values)\n",
    "X['STATE'] = le.fit_transform(X['STATE'].values)\n",
    "X['LAND SQUARE FEET'] = X['LAND SQUARE FEET'].replace(' -  ', 0)\n",
    "X['GROSS SQUARE FEET'] = X['GROSS SQUARE FEET'].replace(' -  ', 0)\n",
    "\n",
    "y = property\n",
    "\n",
    "classes = property.unique()\n",
    "\n",
    "\n",
    "from sklearn.feature_selection import SelectKBest, chi2\n",
    "selector = SelectKBest(chi2, k=6)\n",
    "selector.fit_transform(X, y)\n",
    "\n",
    "params = selector.get_support()\n",
    "\n",
    "\n",
    "new_X = X[X.columns[params]]\n",
    "\n",
    "\n",
    "x_train, x_test, y_train, y_test = sklearn.model_selection.train_test_split(new_X, y, test_size=0.3)\n",
    "\n",
    "\n",
    "from sklearn.metrics import mean_squared_error, r2_score\n",
    "\n",
    "clf = sklearn.linear_model.TweedieRegressor(power=1, alpha=0.5, link='log')\n",
    "clf.fit(x_train, y_train)\n",
    "\n",
    "y_pred = clf.predict(x_test)\n",
    "\n",
    "# The coefficients\n",
    "print(\"Coefficients: \\n\", clf.coef_)\n",
    "# The mean squared error\n",
    "print(\"Mean squared error: %.2f\" % mean_squared_error(y_test, y_pred))\n",
    "\n",
    "print(\"Coefficient of determination: %.2f\" % r2_score(y_test, y_pred))"
   ]
  },
  {
   "cell_type": "markdown",
   "metadata": {},
   "source": [
    "### Level 3: Modeling"
   ]
  },
  {
   "cell_type": "markdown",
   "metadata": {},
   "source": [
    "2. create a model to predict the “employment length” (5 points)\n",
    "   a. Try out at least 3 different models, and comment on why you chose these models \n",
    "   b. Measure accuracy (at least one model should have accuracy of 80% or higher)"
   ]
  },
  {
   "cell_type": "markdown",
   "metadata": {},
   "source": [
    "Clean up data before modelling"
   ]
  },
  {
   "cell_type": "code",
   "execution_count": 225,
   "metadata": {},
   "outputs": [
    {
     "name": "stderr",
     "output_type": "stream",
     "text": [
      "/var/folders/0m/yz0zvmgd5p9cy9bpc347rm880000gn/T/ipykernel_32335/3992658464.py:18: FutureWarning: In a future version of pandas all arguments of DataFrame.drop except for the argument 'labels' will be keyword-only.\n",
      "  X = luxury_loan_data.drop([predict], 1)\n"
     ]
    }
   ],
   "source": [
    "luxury_loan_data = pd.read_csv('data-set/LuxuryLoanPortfolio.csv')\n",
    "del luxury_loan_data['loan_id']\n",
    "del luxury_loan_data['funded_date']\n",
    "del luxury_loan_data['firstname']\n",
    "del luxury_loan_data['middlename']\n",
    "del luxury_loan_data['lastname']\n",
    "del luxury_loan_data['social']\n",
    "del luxury_loan_data['phone']\n",
    "\n",
    "bins = [0, 5, 10, 15, np.inf]\n",
    "labels = ['a','b','c','d']\n",
    "luxury_loan_data['employment length'] = pd.cut(luxury_loan_data['employment length'], bins=bins, labels=labels)\n",
    "\n",
    "\n",
    "property = luxury_loan_data['employment length']\n",
    "predict = 'employment length'\n",
    "\n",
    "X = luxury_loan_data.drop([predict], 1)\n",
    "\n",
    "le = preprocessing.LabelEncoder()\n",
    "X['purpose'] = le.fit_transform(X.purpose.values)\n",
    "X['title'] = le.fit_transform(X.title.values)\n",
    "X['BUILDING CLASS CATEGORY'] = le.fit_transform(X['BUILDING CLASS CATEGORY'].values)\n",
    "X['TAX CLASS AT PRESENT'] = le.fit_transform(X['TAX CLASS AT PRESENT'].values)\n",
    "X['BUILDING CLASS AT PRESENT'] = le.fit_transform(X['BUILDING CLASS AT PRESENT'].values)\n",
    "X['ADDRESS 1'] = le.fit_transform(X['ADDRESS 1'].values)\n",
    "X['ADDRESS 2'] = le.fit_transform(X['ADDRESS 2'].values)\n",
    "X['CITY'] = le.fit_transform(X['CITY'].values)\n",
    "X['STATE'] = le.fit_transform(X['STATE'].values)\n",
    "X['LAND SQUARE FEET'] = X['LAND SQUARE FEET'].replace(' -  ', 0)\n",
    "X['GROSS SQUARE FEET'] = X['GROSS SQUARE FEET'].replace(' -  ', 0)\n",
    "\n",
    "y = property\n",
    "\n",
    "classes = property.unique()\n"
   ]
  },
  {
   "cell_type": "markdown",
   "metadata": {},
   "source": [
    "Get our selector and divide the data"
   ]
  },
  {
   "cell_type": "code",
   "execution_count": 228,
   "metadata": {},
   "outputs": [],
   "source": [
    "from sklearn.feature_selection import SelectKBest, chi2\n",
    "selector = SelectKBest(chi2, k=6)\n",
    "selector.fit_transform(X, y)\n",
    "\n",
    "params = selector.get_support()\n",
    "\n",
    "\n",
    "new_X = X[X.columns[params]]\n",
    "\n",
    "\n",
    "x_train, x_test, y_train, y_test = sklearn.model_selection.train_test_split(new_X, y, test_size=0.1, stratify=y, shuffle=True )"
   ]
  },
  {
   "cell_type": "markdown",
   "metadata": {},
   "source": [
    "### Get the classifier"
   ]
  },
  {
   "cell_type": "markdown",
   "metadata": {},
   "source": [
    "Random Forest Classifier"
   ]
  },
  {
   "cell_type": "code",
   "execution_count": 234,
   "metadata": {},
   "outputs": [
    {
     "name": "stdout",
     "output_type": "stream",
     "text": [
      "28.57142857142857\n"
     ]
    }
   ],
   "source": [
    "# clf = ensemble.RandomForestClassifier(n_estimators=25, max_depth=3)\n",
    "from sklearn.svm import SVC\n",
    "from sklearn.pipeline import make_pipeline\n",
    "from sklearn.preprocessing import StandardScaler\n",
    "clf = make_pipeline(StandardScaler(), SVC(gamma='auto'))\n",
    "clf.fit(x_train, y_train)\n",
    "\n",
    "y_pred = clf.predict(x_test)\n",
    "\n",
    "acc = metrics.accuracy_score(y_test, y_pred)\n",
    "\n",
    "print(acc * 100)"
   ]
  },
  {
   "cell_type": "markdown",
   "metadata": {},
   "source": [
    "Linear Regression"
   ]
  },
  {
   "cell_type": "code",
   "execution_count": 197,
   "metadata": {},
   "outputs": [
    {
     "name": "stdout",
     "output_type": "stream",
     "text": [
      "Coefficients: \n",
      " [-9.64653212e-07 -6.68358166e-06  4.73016987e-07  6.03113737e-07\n",
      "  1.46229919e-04 -8.03539543e-05]\n",
      "Mean squared error: 26.62\n",
      "Coefficient of determination: 0.00\n"
     ]
    },
    {
     "name": "stderr",
     "output_type": "stream",
     "text": [
      "/var/folders/0m/yz0zvmgd5p9cy9bpc347rm880000gn/T/ipykernel_32335/881175782.py:15: FutureWarning: In a future version of pandas all arguments of DataFrame.drop except for the argument 'labels' will be keyword-only.\n",
      "  X = luxury_loan_data.drop([predict], 1)\n"
     ]
    }
   ],
   "source": [
    "from sklearn.metrics import mean_squared_error, r2_score\n",
    "\n",
    "luxury_loan_data = pd.read_csv('data-set/LuxuryLoanPortfolio.csv')\n",
    "del luxury_loan_data['loan_id']\n",
    "del luxury_loan_data['funded_date']\n",
    "del luxury_loan_data['firstname']\n",
    "del luxury_loan_data['middlename']\n",
    "del luxury_loan_data['lastname']\n",
    "del luxury_loan_data['social']\n",
    "del luxury_loan_data['phone']\n",
    "\n",
    "property = luxury_loan_data['employment length']\n",
    "predict = 'employment length'\n",
    "\n",
    "X = luxury_loan_data.drop([predict], 1)\n",
    "\n",
    "le = preprocessing.LabelEncoder()\n",
    "X['purpose'] = le.fit_transform(X.purpose.values)\n",
    "X['title'] = le.fit_transform(X.title.values)\n",
    "X['BUILDING CLASS CATEGORY'] = le.fit_transform(X['BUILDING CLASS CATEGORY'].values)\n",
    "X['TAX CLASS AT PRESENT'] = le.fit_transform(X['TAX CLASS AT PRESENT'].values)\n",
    "X['BUILDING CLASS AT PRESENT'] = le.fit_transform(X['BUILDING CLASS AT PRESENT'].values)\n",
    "X['ADDRESS 1'] = le.fit_transform(X['ADDRESS 1'].values)\n",
    "X['ADDRESS 2'] = le.fit_transform(X['ADDRESS 2'].values)\n",
    "X['CITY'] = le.fit_transform(X['CITY'].values)\n",
    "X['STATE'] = le.fit_transform(X['STATE'].values)\n",
    "X['LAND SQUARE FEET'] = X['LAND SQUARE FEET'].replace(' -  ', 0)\n",
    "X['GROSS SQUARE FEET'] = X['GROSS SQUARE FEET'].replace(' -  ', 0)\n",
    "\n",
    "y = property\n",
    "\n",
    "classes = property.unique()\n",
    "\n",
    "\n",
    "from sklearn.feature_selection import SelectKBest, chi2\n",
    "selector = SelectKBest(chi2, k=6)\n",
    "selector.fit_transform(X, y)\n",
    "\n",
    "params = selector.get_support()\n",
    "\n",
    "\n",
    "new_X = X[X.columns[params]]\n",
    "\n",
    "\n",
    "x_train, x_test, y_train, y_test = sklearn.model_selection.train_test_split(new_X, y, test_size=0.3)\n",
    "\n",
    "\n",
    "clf = sklearn.linear_model.LinearRegression()\n",
    "clf.fit(x_train, y_train)\n",
    "\n",
    "y_pred = clf.predict(x_test)\n",
    "\n",
    "# The coefficients\n",
    "print(\"Coefficients: \\n\", clf.coef_)\n",
    "# The mean squared error\n",
    "print(\"Mean squared error: %.2f\" % mean_squared_error(y_test, y_pred))\n",
    "\n",
    "print(\"Coefficient of determination: %.2f\" % r2_score(y_test, y_pred))"
   ]
  },
  {
   "cell_type": "markdown",
   "metadata": {},
   "source": [
    "Tweedie Regressor"
   ]
  },
  {
   "cell_type": "code",
   "execution_count": 198,
   "metadata": {},
   "outputs": [
    {
     "name": "stderr",
     "output_type": "stream",
     "text": [
      "/var/folders/0m/yz0zvmgd5p9cy9bpc347rm880000gn/T/ipykernel_32335/4018532270.py:15: FutureWarning: In a future version of pandas all arguments of DataFrame.drop except for the argument 'labels' will be keyword-only.\n",
      "  X = luxury_loan_data.drop([predict], 1)\n"
     ]
    },
    {
     "name": "stdout",
     "output_type": "stream",
     "text": [
      "Coefficients: \n",
      " [0. 0. 0. 0. 0. 0.]\n",
      "Mean squared error: 26.20\n",
      "Coefficient of determination: -0.00\n"
     ]
    },
    {
     "name": "stderr",
     "output_type": "stream",
     "text": [
      "/Users/faaatman/Desktop/GulfBank-Datathon/Datathon/.venv/lib/python3.9/site-packages/sklearn/linear_model/_linear_loss.py:200: RuntimeWarning: invalid value encountered in matmul\n",
      "  grad[:n_features] = X.T @ grad_per_sample + l2_reg_strength * weights\n"
     ]
    }
   ],
   "source": [
    "from sklearn.metrics import mean_squared_error, r2_score\n",
    "\n",
    "luxury_loan_data = pd.read_csv('data-set/LuxuryLoanPortfolio.csv')\n",
    "del luxury_loan_data['loan_id']\n",
    "del luxury_loan_data['funded_date']\n",
    "del luxury_loan_data['firstname']\n",
    "del luxury_loan_data['middlename']\n",
    "del luxury_loan_data['lastname']\n",
    "del luxury_loan_data['social']\n",
    "del luxury_loan_data['phone']\n",
    "\n",
    "property = luxury_loan_data['employment length']\n",
    "predict = 'employment length'\n",
    "\n",
    "X = luxury_loan_data.drop([predict], 1)\n",
    "\n",
    "le = preprocessing.LabelEncoder()\n",
    "X['purpose'] = le.fit_transform(X.purpose.values)\n",
    "X['title'] = le.fit_transform(X.title.values)\n",
    "X['BUILDING CLASS CATEGORY'] = le.fit_transform(X['BUILDING CLASS CATEGORY'].values)\n",
    "X['TAX CLASS AT PRESENT'] = le.fit_transform(X['TAX CLASS AT PRESENT'].values)\n",
    "X['BUILDING CLASS AT PRESENT'] = le.fit_transform(X['BUILDING CLASS AT PRESENT'].values)\n",
    "X['ADDRESS 1'] = le.fit_transform(X['ADDRESS 1'].values)\n",
    "X['ADDRESS 2'] = le.fit_transform(X['ADDRESS 2'].values)\n",
    "X['CITY'] = le.fit_transform(X['CITY'].values)\n",
    "X['STATE'] = le.fit_transform(X['STATE'].values)\n",
    "X['LAND SQUARE FEET'] = X['LAND SQUARE FEET'].replace(' -  ', 0)\n",
    "X['GROSS SQUARE FEET'] = X['GROSS SQUARE FEET'].replace(' -  ', 0)\n",
    "\n",
    "y = property\n",
    "\n",
    "classes = property.unique()\n",
    "\n",
    "\n",
    "from sklearn.feature_selection import SelectKBest, chi2\n",
    "selector = SelectKBest(chi2, k=6)\n",
    "selector.fit_transform(X, y)\n",
    "\n",
    "params = selector.get_support()\n",
    "\n",
    "\n",
    "new_X = X[X.columns[params]]\n",
    "\n",
    "\n",
    "x_train, x_test, y_train, y_test = sklearn.model_selection.train_test_split(new_X, y, test_size=0.3)\n",
    "\n",
    "\n",
    "from sklearn.metrics import mean_squared_error, r2_score\n",
    "\n",
    "clf = sklearn.linear_model.TweedieRegressor(power=1, alpha=0.5, link='log')\n",
    "clf.fit(x_train, y_train)\n",
    "\n",
    "y_pred = clf.predict(x_test)\n",
    "\n",
    "# The coefficients\n",
    "print(\"Coefficients: \\n\", clf.coef_)\n",
    "# The mean squared error\n",
    "print(\"Mean squared error: %.2f\" % mean_squared_error(y_test, y_pred))\n",
    "\n",
    "print(\"Coefficient of determination: %.2f\" % r2_score(y_test, y_pred))"
   ]
  }
 ],
 "metadata": {
  "interpreter": {
   "hash": "7f9195a93a76989a2ecad91d5b3897882bd0002da492312d4b75a221e8807448"
  },
  "kernelspec": {
   "display_name": "Python 3.9.9 ('.venv': venv)",
   "language": "python",
   "name": "python3"
  },
  "language_info": {
   "codemirror_mode": {
    "name": "ipython",
    "version": 3
   },
   "file_extension": ".py",
   "mimetype": "text/x-python",
   "name": "python",
   "nbconvert_exporter": "python",
   "pygments_lexer": "ipython3",
   "version": "3.9.9"
  },
  "orig_nbformat": 4
 },
 "nbformat": 4,
 "nbformat_minor": 2
}
