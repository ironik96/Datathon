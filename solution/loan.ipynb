{
 "cells": [
  {
   "cell_type": "code",
   "execution_count": 160,
   "metadata": {},
   "outputs": [],
   "source": [
    "import pandas as pd\n",
    "import matplotlib\n",
    "import numpy as np\n",
    "import sklearn\n",
    "from sklearn import svm\n",
    "from sklearn import metrics\n",
    "from sklearn import ensemble\n",
    "from sklearn import preprocessing\n",
    "from sklearn.model_selection import cross_val_score"
   ]
  },
  {
   "cell_type": "code",
   "execution_count": 3,
   "metadata": {},
   "outputs": [],
   "source": [
    "df_acct = pd.read_csv('data-set/completedacct.csv')\n",
    "df_card = pd.read_csv('data-set/completedcard.csv')\n",
    "df_client = pd.read_csv('data-set/completedclient.csv')\n",
    "df_disposition = pd.read_csv('data-set/completeddisposition.csv')\n",
    "df_district = pd.read_csv('data-set/completeddistrict.csv')\n",
    "df_loan = pd.read_csv('data-set/completedloan.csv')\n",
    "df_order = pd.read_csv('data-set/completedorder.csv')\n",
    "df_trans = pd.read_csv('data-set/completedtrans.csv', low_memory=False)\n",
    "# df_crm_call = pd.read_csv('data-set/CRM Call Center Logs.csv')\n",
    "# df_crm_events = pd.read_csv('data-set/CRM Events.csv')\n",
    "# df_crm_reviews = pd.read_csv('data-set/CRM Reviews.csv')\n",
    "df_luxury_loans = pd.read_csv('data-set/LuxuryLoanPortfolio.csv')"
   ]
  },
  {
   "cell_type": "markdown",
   "metadata": {},
   "source": [
    "# Level 1: Exploring (1 point per task)"
   ]
  },
  {
   "cell_type": "markdown",
   "metadata": {},
   "source": [
    "1. What are the different durations that loans are taken in and how many loans are taken for each duration?"
   ]
  },
  {
   "cell_type": "code",
   "execution_count": 7,
   "metadata": {},
   "outputs": [
    {
     "name": "stdout",
     "output_type": "stream",
     "text": [
      "60    145\n",
      "24    138\n",
      "48    138\n",
      "12    131\n",
      "36    130\n",
      "Name: duration, dtype: int64\n"
     ]
    }
   ],
   "source": [
    "different_durations_amounts = df_loan.duration.value_counts()\n",
    "print(different_durations_amounts)\n",
    "\n"
   ]
  },
  {
   "cell_type": "markdown",
   "metadata": {},
   "source": [
    "2. What are the different statuses for the loans?"
   ]
  },
  {
   "cell_type": "code",
   "execution_count": 8,
   "metadata": {},
   "outputs": [
    {
     "name": "stdout",
     "output_type": "stream",
     "text": [
      "['A' 'C' 'B' 'D']\n"
     ]
    }
   ],
   "source": [
    "different_statuses = df_loan.status.unique()\n",
    "print(different_statuses)"
   ]
  },
  {
   "cell_type": "markdown",
   "metadata": {},
   "source": [
    "3. What are the different loan purposes and what is the most common purpose?"
   ]
  },
  {
   "cell_type": "code",
   "execution_count": 13,
   "metadata": {},
   "outputs": [
    {
     "name": "stdout",
     "output_type": "stream",
     "text": [
      "['car' 'debt_consolidation' 'home_improvement' 'home']\n",
      "0    home\n",
      "Name: purpose, dtype: object\n"
     ]
    }
   ],
   "source": [
    "different_purposes = df_loan.purpose.unique()\n",
    "print(different_purposes)\n",
    "most_common_purpose = df_loan.purpose.mode()\n",
    "print(most_common_purpose)"
   ]
  },
  {
   "cell_type": "markdown",
   "metadata": {},
   "source": [
    "4. What is the median loan amount?"
   ]
  },
  {
   "cell_type": "code",
   "execution_count": 14,
   "metadata": {},
   "outputs": [
    {
     "name": "stdout",
     "output_type": "stream",
     "text": [
      "116928.0\n"
     ]
    }
   ],
   "source": [
    "median_loan_amount = df_loan.amount.median()\n",
    "print(median_loan_amount)"
   ]
  },
  {
   "cell_type": "markdown",
   "metadata": {},
   "source": [
    "5. How is the median loan amount changing over the years? Visualize this"
   ]
  },
  {
   "cell_type": "code",
   "execution_count": 35,
   "metadata": {},
   "outputs": [
    {
     "data": {
      "text/plain": [
       "<AxesSubplot:xlabel='year'>"
      ]
     },
     "execution_count": 35,
     "metadata": {},
     "output_type": "execute_result"
    },
    {
     "data": {
      "image/png": "[encoded data removed]",
      "text/plain": [
       "<Figure size 432x288 with 1 Axes>"
      ]
     },
     "metadata": {
      "needs_background": "light"
     },
     "output_type": "display_data"
    }
   ],
   "source": [
    "average_amount_by_year = df_loan.amount.groupby(df_loan.year).median()\n",
    "average_amount_by_year.plot()"
   ]
  },
  {
   "cell_type": "markdown",
   "metadata": {},
   "source": [
    "6. What are the top 3 most common locations that people take loans in? (The location is represented by a\n",
    "number)"
   ]
  },
  {
   "cell_type": "code",
   "execution_count": 28,
   "metadata": {},
   "outputs": [
    {
     "name": "stdout",
     "output_type": "stream",
     "text": [
      "1     507\n",
      "64     75\n",
      "59     55\n",
      "Name: location, dtype: int64\n"
     ]
    }
   ],
   "source": [
    "most_common_locations = df_loan.location.value_counts()[:3]\n",
    "print(most_common_locations)"
   ]
  },
  {
   "cell_type": "markdown",
   "metadata": {},
   "source": [
    "7. What is the average value of loans for each duration? Visualize this."
   ]
  },
  {
   "cell_type": "code",
   "execution_count": 32,
   "metadata": {},
   "outputs": [
    {
     "name": "stdout",
     "output_type": "stream",
     "text": [
      "duration\n",
      "12     53635.511450\n",
      "24     99217.913043\n",
      "36    144048.184615\n",
      "48    205592.695652\n",
      "60    244450.758621\n",
      "Name: amount, dtype: float64\n"
     ]
    },
    {
     "data": {
      "text/plain": [
       "<AxesSubplot:xlabel='duration'>"
      ]
     },
     "execution_count": 32,
     "metadata": {},
     "output_type": "execute_result"
    },
    {
     "data": {
      "image/png": "[encoded data removed]",
      "text/plain": [
       "<Figure size 432x288 with 1 Axes>"
      ]
     },
     "metadata": {
      "needs_background": "light"
     },
     "output_type": "display_data"
    }
   ],
   "source": [
    "average_by_duration = df_loan.amount.groupby(df_loan.duration).mean()\n",
    "print(average_by_duration)\n",
    "average_by_duration.plot.bar()"
   ]
  },
  {
   "cell_type": "markdown",
   "metadata": {},
   "source": [
    "# Level 2: Analyzing (3 points per task)"
   ]
  },
  {
   "cell_type": "markdown",
   "metadata": {},
   "source": [
    "1. How many of the loans taken are by males and how many of them are by females?"
   ]
  },
  {
   "cell_type": "code",
   "execution_count": 110,
   "metadata": {},
   "outputs": [
    {
     "data": {
      "text/plain": [
       "Female    348\n",
       "Male      334\n",
       "Name: sex, dtype: int64"
      ]
     },
     "execution_count": 110,
     "metadata": {},
     "output_type": "execute_result"
    }
   ],
   "source": [
    "owners_only = df_disposition[df_disposition['type'] == 'Owner']\n",
    "# loans_with_accounts = df_loan.set_index('account_id').join(owners_only.set_index('account_id'), how='left')\n",
    "# loans_with_clients = loans_with_accounts.set_index('client_id').join(df_client.set_index('client_id'), rsuffix='client_id', lsuffix='client_id', how='left')\n",
    "loans_with_accounts = df_loan.merge(owners_only, how='left', on='account_id')\n",
    "loans_with_clients = loans_with_accounts.merge(df_client, how='left', on='client_id')\n",
    "\n",
    "removing_duplicates = loans_with_clients.set_index('loan_id').drop_duplicates('client_id')\n",
    "loans_with_clients.sex.value_counts()"
   ]
  },
  {
   "cell_type": "markdown",
   "metadata": {},
   "source": [
    "2. Create categories for the ages of the clients\n",
    "    \n",
    "    a. <25 \n",
    "    b. 25-35 \n",
    "    c. 35-45 \n",
    "    d. 50-65 \n",
    "    e. >65"
   ]
  },
  {
   "cell_type": "code",
   "execution_count": 112,
   "metadata": {},
   "outputs": [
    {
     "data": {
      "text/html": [
       "<div>\n",
       "<style scoped>\n",
       "    .dataframe tbody tr th:only-of-type {\n",
       "        vertical-align: middle;\n",
       "    }\n",
       "\n",
       "    .dataframe tbody tr th {\n",
       "        vertical-align: top;\n",
       "    }\n",
       "\n",
       "    .dataframe thead th {\n",
       "        text-align: right;\n",
       "    }\n",
       "</style>\n",
       "<table border=\"1\" class=\"dataframe\">\n",
       "  <thead>\n",
       "    <tr style=\"text-align: right;\">\n",
       "      <th></th>\n",
       "      <th>client_id</th>\n",
       "      <th>sex</th>\n",
       "      <th>fulldate</th>\n",
       "      <th>day</th>\n",
       "      <th>month</th>\n",
       "      <th>year</th>\n",
       "      <th>age</th>\n",
       "      <th>social</th>\n",
       "      <th>first</th>\n",
       "      <th>middle</th>\n",
       "      <th>last</th>\n",
       "      <th>phone</th>\n",
       "      <th>email</th>\n",
       "      <th>address_1</th>\n",
       "      <th>address_2</th>\n",
       "      <th>city</th>\n",
       "      <th>state</th>\n",
       "      <th>zipcode</th>\n",
       "      <th>district_id</th>\n",
       "      <th>age_category</th>\n",
       "    </tr>\n",
       "  </thead>\n",
       "  <tbody>\n",
       "    <tr>\n",
       "      <th>0</th>\n",
       "      <td>C00000001</td>\n",
       "      <td>Female</td>\n",
       "      <td>1990-12-13</td>\n",
       "      <td>13</td>\n",
       "      <td>12</td>\n",
       "      <td>1990</td>\n",
       "      <td>29</td>\n",
       "      <td>926-93-2157</td>\n",
       "      <td>Emma</td>\n",
       "      <td>Avaya</td>\n",
       "      <td>Smith</td>\n",
       "      <td>367-171-6840</td>\n",
       "      <td>emma.smith@gmail.com</td>\n",
       "      <td>387 Wellington Ave.</td>\n",
       "      <td>Unit 1</td>\n",
       "      <td>Albuquerque</td>\n",
       "      <td>NM</td>\n",
       "      <td>47246</td>\n",
       "      <td>18</td>\n",
       "      <td>b</td>\n",
       "    </tr>\n",
       "    <tr>\n",
       "      <th>1</th>\n",
       "      <td>C00000002</td>\n",
       "      <td>Male</td>\n",
       "      <td>1965-02-04</td>\n",
       "      <td>4</td>\n",
       "      <td>2</td>\n",
       "      <td>1965</td>\n",
       "      <td>54</td>\n",
       "      <td>806-94-5725</td>\n",
       "      <td>Noah</td>\n",
       "      <td>Everest</td>\n",
       "      <td>Thompson</td>\n",
       "      <td>212-423-7734</td>\n",
       "      <td>noah.thompson@gmail.com</td>\n",
       "      <td>75 W. Berkshire St.</td>\n",
       "      <td>NaN</td>\n",
       "      <td>New York City</td>\n",
       "      <td>NY</td>\n",
       "      <td>10040</td>\n",
       "      <td>1</td>\n",
       "      <td>d</td>\n",
       "    </tr>\n",
       "    <tr>\n",
       "      <th>2</th>\n",
       "      <td>C00000003</td>\n",
       "      <td>Female</td>\n",
       "      <td>1960-10-09</td>\n",
       "      <td>9</td>\n",
       "      <td>10</td>\n",
       "      <td>1960</td>\n",
       "      <td>59</td>\n",
       "      <td>614-70-9100</td>\n",
       "      <td>Olivia</td>\n",
       "      <td>Brooklynne</td>\n",
       "      <td>Johnson</td>\n",
       "      <td>212-425-6932</td>\n",
       "      <td>olivia.johnson@outlook.com</td>\n",
       "      <td>36 Second St.</td>\n",
       "      <td>NaN</td>\n",
       "      <td>New York City</td>\n",
       "      <td>NY</td>\n",
       "      <td>10162</td>\n",
       "      <td>1</td>\n",
       "      <td>d</td>\n",
       "    </tr>\n",
       "    <tr>\n",
       "      <th>3</th>\n",
       "      <td>C00000004</td>\n",
       "      <td>Male</td>\n",
       "      <td>1976-12-01</td>\n",
       "      <td>1</td>\n",
       "      <td>12</td>\n",
       "      <td>1976</td>\n",
       "      <td>43</td>\n",
       "      <td>580-20-3414</td>\n",
       "      <td>Liam</td>\n",
       "      <td>Irvin</td>\n",
       "      <td>White</td>\n",
       "      <td>951-567-8925</td>\n",
       "      <td>liam.white@gmail.com</td>\n",
       "      <td>7607 Sunnyslope Street</td>\n",
       "      <td>NaN</td>\n",
       "      <td>Indianapolis</td>\n",
       "      <td>IN</td>\n",
       "      <td>49047</td>\n",
       "      <td>5</td>\n",
       "      <td>c</td>\n",
       "    </tr>\n",
       "    <tr>\n",
       "      <th>4</th>\n",
       "      <td>C00000005</td>\n",
       "      <td>Female</td>\n",
       "      <td>1980-07-03</td>\n",
       "      <td>3</td>\n",
       "      <td>7</td>\n",
       "      <td>1980</td>\n",
       "      <td>39</td>\n",
       "      <td>536-14-5809</td>\n",
       "      <td>Sophia</td>\n",
       "      <td>Danae</td>\n",
       "      <td>Williams</td>\n",
       "      <td>428-265-1568</td>\n",
       "      <td>sophia.williams@gmail.com</td>\n",
       "      <td>755 Galvin Street</td>\n",
       "      <td>NaN</td>\n",
       "      <td>Indianapolis</td>\n",
       "      <td>IN</td>\n",
       "      <td>40852</td>\n",
       "      <td>5</td>\n",
       "      <td>c</td>\n",
       "    </tr>\n",
       "    <tr>\n",
       "      <th>...</th>\n",
       "      <td>...</td>\n",
       "      <td>...</td>\n",
       "      <td>...</td>\n",
       "      <td>...</td>\n",
       "      <td>...</td>\n",
       "      <td>...</td>\n",
       "      <td>...</td>\n",
       "      <td>...</td>\n",
       "      <td>...</td>\n",
       "      <td>...</td>\n",
       "      <td>...</td>\n",
       "      <td>...</td>\n",
       "      <td>...</td>\n",
       "      <td>...</td>\n",
       "      <td>...</td>\n",
       "      <td>...</td>\n",
       "      <td>...</td>\n",
       "      <td>...</td>\n",
       "      <td>...</td>\n",
       "      <td>...</td>\n",
       "    </tr>\n",
       "    <tr>\n",
       "      <th>5364</th>\n",
       "      <td>C00013955</td>\n",
       "      <td>Female</td>\n",
       "      <td>1965-10-30</td>\n",
       "      <td>30</td>\n",
       "      <td>10</td>\n",
       "      <td>1965</td>\n",
       "      <td>54</td>\n",
       "      <td>830-38-3530</td>\n",
       "      <td>Adrianna</td>\n",
       "      <td>Jillian</td>\n",
       "      <td>Moore</td>\n",
       "      <td>212-205-7422</td>\n",
       "      <td>adrianna.moore@outlook.com</td>\n",
       "      <td>9405 SW. Leeton Ridge Drive</td>\n",
       "      <td>NaN</td>\n",
       "      <td>New York City</td>\n",
       "      <td>NY</td>\n",
       "      <td>10121</td>\n",
       "      <td>1</td>\n",
       "      <td>d</td>\n",
       "    </tr>\n",
       "    <tr>\n",
       "      <th>5365</th>\n",
       "      <td>C00013956</td>\n",
       "      <td>Male</td>\n",
       "      <td>1963-04-06</td>\n",
       "      <td>6</td>\n",
       "      <td>4</td>\n",
       "      <td>1963</td>\n",
       "      <td>56</td>\n",
       "      <td>773-25-4409</td>\n",
       "      <td>Aaron</td>\n",
       "      <td>Roman</td>\n",
       "      <td>Park</td>\n",
       "      <td>212-645-8820</td>\n",
       "      <td>aaron.park@gmail.com</td>\n",
       "      <td>7021 Chapel Ave.</td>\n",
       "      <td>NaN</td>\n",
       "      <td>New York City</td>\n",
       "      <td>NY</td>\n",
       "      <td>10118</td>\n",
       "      <td>1</td>\n",
       "      <td>d</td>\n",
       "    </tr>\n",
       "    <tr>\n",
       "      <th>5366</th>\n",
       "      <td>C00013968</td>\n",
       "      <td>Male</td>\n",
       "      <td>1988-04-13</td>\n",
       "      <td>13</td>\n",
       "      <td>4</td>\n",
       "      <td>1988</td>\n",
       "      <td>31</td>\n",
       "      <td>227-17-0778</td>\n",
       "      <td>Eli</td>\n",
       "      <td>Leonardo</td>\n",
       "      <td>Warner</td>\n",
       "      <td>508-465-5164</td>\n",
       "      <td>eli.warner@hotmail.com</td>\n",
       "      <td>43 Edgemont Dr.</td>\n",
       "      <td>NaN</td>\n",
       "      <td>Fall River</td>\n",
       "      <td>MA</td>\n",
       "      <td>2721</td>\n",
       "      <td>61</td>\n",
       "      <td>b</td>\n",
       "    </tr>\n",
       "    <tr>\n",
       "      <th>5367</th>\n",
       "      <td>C00013971</td>\n",
       "      <td>Female</td>\n",
       "      <td>1982-10-19</td>\n",
       "      <td>19</td>\n",
       "      <td>10</td>\n",
       "      <td>1982</td>\n",
       "      <td>37</td>\n",
       "      <td>278-77-3298</td>\n",
       "      <td>Ruth</td>\n",
       "      <td>Joy</td>\n",
       "      <td>Martin</td>\n",
       "      <td>856-636-3840</td>\n",
       "      <td>ruth.martin@gmail.com</td>\n",
       "      <td>7087 E. Pennsylvania Street</td>\n",
       "      <td>Unit 8</td>\n",
       "      <td>Danbury</td>\n",
       "      <td>CT</td>\n",
       "      <td>48475</td>\n",
       "      <td>67</td>\n",
       "      <td>c</td>\n",
       "    </tr>\n",
       "    <tr>\n",
       "      <th>5368</th>\n",
       "      <td>C00013998</td>\n",
       "      <td>Female</td>\n",
       "      <td>1973-08-12</td>\n",
       "      <td>12</td>\n",
       "      <td>8</td>\n",
       "      <td>1973</td>\n",
       "      <td>46</td>\n",
       "      <td>266-21-2541</td>\n",
       "      <td>Miriam</td>\n",
       "      <td>Abby</td>\n",
       "      <td>Jackson</td>\n",
       "      <td>431-633-5403</td>\n",
       "      <td>miriam.jackson@gmail.com</td>\n",
       "      <td>29 Buckingham Rd.</td>\n",
       "      <td>NaN</td>\n",
       "      <td>Chicago</td>\n",
       "      <td>IL</td>\n",
       "      <td>44244</td>\n",
       "      <td>74</td>\n",
       "      <td>c</td>\n",
       "    </tr>\n",
       "  </tbody>\n",
       "</table>\n",
       "<p>5369 rows × 20 columns</p>\n",
       "</div>"
      ],
      "text/plain": [
       "      client_id     sex    fulldate  day  month  year  age       social  \\\n",
       "0     C00000001  Female  1990-12-13   13     12  1990   29  926-93-2157   \n",
       "1     C00000002    Male  1965-02-04    4      2  1965   54  806-94-5725   \n",
       "2     C00000003  Female  1960-10-09    9     10  1960   59  614-70-9100   \n",
       "3     C00000004    Male  1976-12-01    1     12  1976   43  580-20-3414   \n",
       "4     C00000005  Female  1980-07-03    3      7  1980   39  536-14-5809   \n",
       "...         ...     ...         ...  ...    ...   ...  ...          ...   \n",
       "5364  C00013955  Female  1965-10-30   30     10  1965   54  830-38-3530   \n",
       "5365  C00013956    Male  1963-04-06    6      4  1963   56  773-25-4409   \n",
       "5366  C00013968    Male  1988-04-13   13      4  1988   31  227-17-0778   \n",
       "5367  C00013971  Female  1982-10-19   19     10  1982   37  278-77-3298   \n",
       "5368  C00013998  Female  1973-08-12   12      8  1973   46  266-21-2541   \n",
       "\n",
       "         first      middle      last         phone  \\\n",
       "0         Emma       Avaya     Smith  367-171-6840   \n",
       "1         Noah     Everest  Thompson  212-423-7734   \n",
       "2       Olivia  Brooklynne   Johnson  212-425-6932   \n",
       "3         Liam       Irvin     White  951-567-8925   \n",
       "4       Sophia       Danae  Williams  428-265-1568   \n",
       "...        ...         ...       ...           ...   \n",
       "5364  Adrianna     Jillian     Moore  212-205-7422   \n",
       "5365     Aaron       Roman      Park  212-645-8820   \n",
       "5366       Eli    Leonardo    Warner  508-465-5164   \n",
       "5367      Ruth         Joy    Martin  856-636-3840   \n",
       "5368    Miriam        Abby   Jackson  431-633-5403   \n",
       "\n",
       "                           email                    address_1 address_2  \\\n",
       "0           emma.smith@gmail.com          387 Wellington Ave.    Unit 1   \n",
       "1        noah.thompson@gmail.com          75 W. Berkshire St.       NaN   \n",
       "2     olivia.johnson@outlook.com                36 Second St.       NaN   \n",
       "3           liam.white@gmail.com       7607 Sunnyslope Street       NaN   \n",
       "4      sophia.williams@gmail.com            755 Galvin Street       NaN   \n",
       "...                          ...                          ...       ...   \n",
       "5364  adrianna.moore@outlook.com  9405 SW. Leeton Ridge Drive       NaN   \n",
       "5365        aaron.park@gmail.com             7021 Chapel Ave.       NaN   \n",
       "5366      eli.warner@hotmail.com              43 Edgemont Dr.       NaN   \n",
       "5367       ruth.martin@gmail.com  7087 E. Pennsylvania Street    Unit 8   \n",
       "5368    miriam.jackson@gmail.com            29 Buckingham Rd.       NaN   \n",
       "\n",
       "               city state  zipcode  district_id age_category  \n",
       "0       Albuquerque    NM    47246           18            b  \n",
       "1     New York City    NY    10040            1            d  \n",
       "2     New York City    NY    10162            1            d  \n",
       "3      Indianapolis    IN    49047            5            c  \n",
       "4      Indianapolis    IN    40852            5            c  \n",
       "...             ...   ...      ...          ...          ...  \n",
       "5364  New York City    NY    10121            1            d  \n",
       "5365  New York City    NY    10118            1            d  \n",
       "5366     Fall River    MA     2721           61            b  \n",
       "5367        Danbury    CT    48475           67            c  \n",
       "5368        Chicago    IL    44244           74            c  \n",
       "\n",
       "[5369 rows x 20 columns]"
      ]
     },
     "execution_count": 112,
     "metadata": {},
     "output_type": "execute_result"
    }
   ],
   "source": [
    "bins = [0, 25, 35, 50, 65, np.inf]\n",
    "labels = ['a','b','c','d','e']\n",
    "# age_categories = pd.cut(df_client.age, bins=bins)\n",
    "# age_categories.value_counts()\n",
    "\n",
    "df_client['age_category'] = pd.cut(df_client.age, bins=bins, labels=labels)"
   ]
  },
  {
   "cell_type": "markdown",
   "metadata": {},
   "source": [
    "3. Check which age group has the highest count of loans? Visualize this"
   ]
  },
  {
   "cell_type": "code",
   "execution_count": 122,
   "metadata": {},
   "outputs": [
    {
     "data": {
      "text/plain": [
       "<AxesSubplot:>"
      ]
     },
     "execution_count": 122,
     "metadata": {},
     "output_type": "execute_result"
    },
    {
     "data": {
      "image/png": "[encoded data removed]",
      "text/plain": [
       "<Figure size 432x288 with 1 Axes>"
      ]
     },
     "metadata": {
      "needs_background": "light"
     },
     "output_type": "display_data"
    }
   ],
   "source": [
    "loans_with_clients['age_group'] = pd.cut(loans_with_clients.age, bins=bins, labels=labels)\n",
    "loans_with_clients.age_group.value_counts().sort_index().plot.bar()\n"
   ]
  },
  {
   "cell_type": "markdown",
   "metadata": {},
   "source": [
    "4. Check which age group has the highest value of loans? Visualize this"
   ]
  },
  {
   "cell_type": "code",
   "execution_count": 124,
   "metadata": {},
   "outputs": [
    {
     "data": {
      "text/plain": [
       "<AxesSubplot:xlabel='age_group'>"
      ]
     },
     "execution_count": 124,
     "metadata": {},
     "output_type": "execute_result"
    },
    {
     "data": {
      "image/png": "[encoded data removed]",
      "text/plain": [
       "<Figure size 432x288 with 1 Axes>"
      ]
     },
     "metadata": {
      "needs_background": "light"
     },
     "output_type": "display_data"
    }
   ],
   "source": [
    "max_amounts = loans_with_clients.groupby('age_group')\n",
    "max_amounts.amount.max().plot.bar()"
   ]
  },
  {
   "cell_type": "markdown",
   "metadata": {},
   "source": [
    "5. Create categories for the loan “amounts”:\n",
    "    a. '-75K'\n",
    "    b. '75K-150K'\n",
    "    c. '150K-250K' \n",
    "    d. '250K-350K'\n",
    "    e. '350K+"
   ]
  },
  {
   "cell_type": "code",
   "execution_count": 135,
   "metadata": {},
   "outputs": [
    {
     "data": {
      "text/plain": [
       "a    206\n",
       "b    189\n",
       "c    161\n",
       "d     78\n",
       "e     48\n",
       "Name: amount, dtype: int64"
      ]
     },
     "execution_count": 135,
     "metadata": {},
     "output_type": "execute_result"
    }
   ],
   "source": [
    "amount_bins = [0, 75000, 150000, 250000, 350000, np.inf]\n",
    "amount_labels = ['a','b','c','d','e']\n",
    "\n",
    "amount_categories = pd.cut(df_loan.amount, bins=amount_bins, labels=amount_labels)\n",
    "amount_categories.value_counts()"
   ]
  },
  {
   "cell_type": "markdown",
   "metadata": {},
   "source": [
    "6. What are the different frequencies for loan payments?"
   ]
  },
  {
   "cell_type": "code",
   "execution_count": 220,
   "metadata": {},
   "outputs": [
    {
     "name": "stdout",
     "output_type": "stream",
     "text": [
      "5.0    145\n",
      "2.0    138\n",
      "4.0    138\n",
      "1.0    131\n",
      "3.0    130\n",
      "Name: duration, dtype: int64\n"
     ]
    }
   ],
   "source": [
    "print(df_loan.duration.div(12).value_counts())\n",
    "# number_of_payments = df_loan.amount.div(df_loan.payments).div(df_loan.duration)\n",
    "# payments_bins = [0, 1/12, 2/12, 4/12, 6/12, 1, 2, 26/12, 52/12]\n",
    "# payments_labels = ['annually','semi-annual','quarterly','bi-monthy','monthly', 'semi-monthly', 'bi-weekly', 'weekly']\n",
    "# payments_categories = pd.cut(number_of_payments, bins=payments_bins, labels=payments_labels)\n",
    "# payments_categories.value_counts()"
   ]
  },
  {
   "cell_type": "markdown",
   "metadata": {},
   "source": [
    "# Level 3: Modeling"
   ]
  },
  {
   "cell_type": "markdown",
   "metadata": {},
   "source": [
    "1. Create a model to predict the transaction purpose (10 points)\n",
    "    \n",
    "    a. Try out at least 3 different models, and comment on why you chose these models \n",
    "    \n",
    "    b. Measure accuracy (at least one model should have accuracy of 80% or higher)"
   ]
  },
  {
   "cell_type": "markdown",
   "metadata": {},
   "source": [
    "Clean up data before modelling"
   ]
  },
  {
   "cell_type": "code",
   "execution_count": 198,
   "metadata": {},
   "outputs": [
    {
     "name": "stderr",
     "output_type": "stream",
     "text": [
      "/var/folders/0m/yz0zvmgd5p9cy9bpc347rm880000gn/T/ipykernel_8957/4243839992.py:8: FutureWarning: In a future version of pandas all arguments of DataFrame.drop except for the argument 'labels' will be keyword-only.\n",
      "  X = loan_data.drop([predict], 1)\n"
     ]
    }
   ],
   "source": [
    "loan_data = pd.read_csv('data-set/completedloan.csv')\n",
    "del loan_data['loan_id']\n",
    "del loan_data['account_id']\n",
    "del loan_data['fulldate']\n",
    "purpose = loan_data.purpose\n",
    "predict = 'purpose'\n",
    "\n",
    "X = loan_data.drop([predict], 1)\n",
    "\n",
    "le = preprocessing.LabelEncoder()\n",
    "X['status'] = le.fit_transform(X.status.values)\n",
    "\n",
    "y = purpose\n",
    "\n",
    "classes = purpose.unique()\n"
   ]
  },
  {
   "cell_type": "markdown",
   "metadata": {},
   "source": [
    "Get our selector and divide the data"
   ]
  },
  {
   "cell_type": "code",
   "execution_count": 199,
   "metadata": {},
   "outputs": [],
   "source": [
    "from sklearn.feature_selection import SelectKBest, chi2\n",
    "selector = SelectKBest(chi2, k=6)\n",
    "selector.fit_transform(X, y)\n",
    "\n",
    "params = selector.get_support()\n",
    "\n",
    "\n",
    "new_X = X[X.columns[params]]\n",
    "\n",
    "\n",
    "x_train, x_test, y_train, y_test = sklearn.model_selection.train_test_split(new_X, y, test_size=0.3, stratify=y, shuffle=True)"
   ]
  },
  {
   "cell_type": "markdown",
   "metadata": {},
   "source": [
    "Get the classifier"
   ]
  },
  {
   "cell_type": "markdown",
   "metadata": {},
   "source": [
    "Random Forest Classifier"
   ]
  },
  {
   "cell_type": "code",
   "execution_count": 211,
   "metadata": {},
   "outputs": [
    {
     "name": "stdout",
     "output_type": "stream",
     "text": [
      "88.78048780487805\n"
     ]
    }
   ],
   "source": [
    "clf = ensemble.RandomForestClassifier(n_estimators=250, max_depth=5)\n",
    "clf.fit(x_train, y_train)\n",
    "\n",
    "y_pred = clf.predict(x_test)\n",
    "\n",
    "acc = metrics.accuracy_score(y_test, y_pred)\n",
    "\n",
    "print(acc * 100)"
   ]
  },
  {
   "cell_type": "markdown",
   "metadata": {},
   "source": [
    "SVM linear SVC using one vs rest classifier to make it a multi-class classifier"
   ]
  },
  {
   "cell_type": "code",
   "execution_count": 210,
   "metadata": {},
   "outputs": [
    {
     "name": "stdout",
     "output_type": "stream",
     "text": [
      "4.390243902439024\n"
     ]
    },
    {
     "name": "stderr",
     "output_type": "stream",
     "text": [
      "/Users/faaatman/Desktop/GulfBank-Datathon/Datathon/.venv/lib/python3.9/site-packages/sklearn/svm/_base.py:1225: ConvergenceWarning: Liblinear failed to converge, increase the number of iterations.\n",
      "  warnings.warn(\n",
      "/Users/faaatman/Desktop/GulfBank-Datathon/Datathon/.venv/lib/python3.9/site-packages/sklearn/svm/_base.py:1225: ConvergenceWarning: Liblinear failed to converge, increase the number of iterations.\n",
      "  warnings.warn(\n",
      "/Users/faaatman/Desktop/GulfBank-Datathon/Datathon/.venv/lib/python3.9/site-packages/sklearn/svm/_base.py:1225: ConvergenceWarning: Liblinear failed to converge, increase the number of iterations.\n",
      "  warnings.warn(\n",
      "/Users/faaatman/Desktop/GulfBank-Datathon/Datathon/.venv/lib/python3.9/site-packages/sklearn/svm/_base.py:1225: ConvergenceWarning: Liblinear failed to converge, increase the number of iterations.\n",
      "  warnings.warn(\n"
     ]
    }
   ],
   "source": [
    "from sklearn.multiclass import OneVsRestClassifier\n",
    "clf = OneVsRestClassifier(svm.LinearSVC(random_state=0))\n",
    "clf.fit(x_train, y_train)\n",
    "\n",
    "y_pred = clf.predict(x_test)\n",
    "acc = metrics.accuracy_score(y_test, y_pred)\n",
    "\n",
    "print(acc * 100)\n"
   ]
  },
  {
   "cell_type": "markdown",
   "metadata": {},
   "source": [
    "K neighbors classifier"
   ]
  },
  {
   "cell_type": "code",
   "execution_count": 209,
   "metadata": {},
   "outputs": [
    {
     "name": "stdout",
     "output_type": "stream",
     "text": [
      "87.3170731707317\n"
     ]
    }
   ],
   "source": [
    "from sklearn.neighbors import KNeighborsClassifier\n",
    "clf = KNeighborsClassifier()\n",
    "clf.fit(x_train, y_train)\n",
    "\n",
    "y_pred = clf.predict(x_test)\n",
    "\n",
    "\n",
    "acc = metrics.accuracy_score(y_test, y_pred)\n",
    "print(acc * 100)"
   ]
  },
  {
   "cell_type": "markdown",
   "metadata": {},
   "source": [
    "I chose Random Forest Classifier, SVM linear SVC using one vs rest classifier, and K neighbors classifier. Since the data we're trying to predict is a multi class data."
   ]
  },
  {
   "cell_type": "markdown",
   "metadata": {},
   "source": [
    "2. Create a model to predict the transaction \"amount category\" (10 points)\n",
    "    a. Try out at least 3 different models, and comment on why you chose these models \n",
    "    b. Measure accuracy (at least one model should have accuracy of 80% or higher)"
   ]
  },
  {
   "cell_type": "markdown",
   "metadata": {},
   "source": [
    "Clean up data before modelling"
   ]
  },
  {
   "cell_type": "code",
   "execution_count": 264,
   "metadata": {},
   "outputs": [
    {
     "name": "stderr",
     "output_type": "stream",
     "text": [
      "/var/folders/0m/yz0zvmgd5p9cy9bpc347rm880000gn/T/ipykernel_8957/662360179.py:17: FutureWarning: In a future version of pandas all arguments of DataFrame.drop except for the argument 'labels' will be keyword-only.\n",
      "  X = loan_data.drop([predict], 1)\n"
     ]
    }
   ],
   "source": [
    "loan_data = pd.read_csv('data-set/completedloan.csv')\n",
    "\n",
    "amount_bins = [0, 75000, 150000, 250000, 350000, np.inf]\n",
    "amount_labels = ['a','b','c','d','e']\n",
    "\n",
    "loan_data['amount_category'] = pd.cut(df_loan.amount, bins=amount_bins, labels=amount_labels)\n",
    "\n",
    "del loan_data['loan_id']\n",
    "del loan_data['account_id']\n",
    "del loan_data['fulldate']\n",
    "\n",
    "\n",
    "\n",
    "amount_category = loan_data.amount_category\n",
    "predict = 'amount_category'\n",
    "\n",
    "X = loan_data.drop([predict], 1)\n",
    "\n",
    "le = preprocessing.LabelEncoder()\n",
    "X['status'] = le.fit_transform(X.status.values)\n",
    "X['purpose'] = le.fit_transform(X.purpose.values)\n",
    "y = amount_category\n",
    "\n",
    "classes = amount_category.unique()\n",
    "\n"
   ]
  },
  {
   "cell_type": "markdown",
   "metadata": {},
   "source": [
    "Get our selector and divide the data"
   ]
  },
  {
   "cell_type": "code",
   "execution_count": 265,
   "metadata": {},
   "outputs": [],
   "source": [
    "from sklearn.feature_selection import SelectKBest, chi2\n",
    "selector = SelectKBest(chi2, k=5)\n",
    "selector.fit_transform(X, y)\n",
    "\n",
    "params = selector.get_support()\n",
    "\n",
    "\n",
    "new_X = X[X.columns[params]]\n",
    "\n",
    "\n",
    "x_train, x_test, y_train, y_test = sklearn.model_selection.train_test_split(new_X, y, test_size=0.3, stratify=y, shuffle=True)"
   ]
  },
  {
   "cell_type": "markdown",
   "metadata": {},
   "source": [
    "Get the classifier"
   ]
  },
  {
   "cell_type": "markdown",
   "metadata": {},
   "source": [
    "Random Forest Classifier"
   ]
  },
  {
   "cell_type": "code",
   "execution_count": 248,
   "metadata": {},
   "outputs": [
    {
     "name": "stdout",
     "output_type": "stream",
     "text": [
      "The accurary is: 82.92682926829268\n"
     ]
    }
   ],
   "source": [
    "clf = ensemble.RandomForestClassifier(n_estimators=50, max_depth=3)\n",
    "clf.fit(x_train, y_train)\n",
    "\n",
    "y_pred = clf.predict(x_test)\n",
    "\n",
    "acc = metrics.accuracy_score(y_test, y_pred)\n",
    "\n",
    "print('The accurary is: {}'.format(acc * 100))"
   ]
  },
  {
   "cell_type": "markdown",
   "metadata": {},
   "source": [
    "SVM linear SVC using one vs rest classifier to make it a multi-class classifier"
   ]
  },
  {
   "cell_type": "code",
   "execution_count": 249,
   "metadata": {},
   "outputs": [
    {
     "name": "stdout",
     "output_type": "stream",
     "text": [
      "The accurary is: 36.09756097560975\n"
     ]
    },
    {
     "name": "stderr",
     "output_type": "stream",
     "text": [
      "/Users/faaatman/Desktop/GulfBank-Datathon/Datathon/.venv/lib/python3.9/site-packages/sklearn/svm/_base.py:1225: ConvergenceWarning: Liblinear failed to converge, increase the number of iterations.\n",
      "  warnings.warn(\n",
      "/Users/faaatman/Desktop/GulfBank-Datathon/Datathon/.venv/lib/python3.9/site-packages/sklearn/svm/_base.py:1225: ConvergenceWarning: Liblinear failed to converge, increase the number of iterations.\n",
      "  warnings.warn(\n",
      "/Users/faaatman/Desktop/GulfBank-Datathon/Datathon/.venv/lib/python3.9/site-packages/sklearn/svm/_base.py:1225: ConvergenceWarning: Liblinear failed to converge, increase the number of iterations.\n",
      "  warnings.warn(\n",
      "/Users/faaatman/Desktop/GulfBank-Datathon/Datathon/.venv/lib/python3.9/site-packages/sklearn/svm/_base.py:1225: ConvergenceWarning: Liblinear failed to converge, increase the number of iterations.\n",
      "  warnings.warn(\n",
      "/Users/faaatman/Desktop/GulfBank-Datathon/Datathon/.venv/lib/python3.9/site-packages/sklearn/svm/_base.py:1225: ConvergenceWarning: Liblinear failed to converge, increase the number of iterations.\n",
      "  warnings.warn(\n"
     ]
    }
   ],
   "source": [
    "from sklearn.multiclass import OneVsRestClassifier\n",
    "clf = OneVsRestClassifier(svm.LinearSVC(random_state=0))\n",
    "clf.fit(x_train, y_train)\n",
    "\n",
    "y_pred = clf.predict(x_test)\n",
    "acc = metrics.accuracy_score(y_test, y_pred)\n",
    "\n",
    "print('The accurary is: {}'.format(acc * 100))"
   ]
  },
  {
   "cell_type": "markdown",
   "metadata": {},
   "source": [
    "K neighbors classifier"
   ]
  },
  {
   "cell_type": "code",
   "execution_count": 266,
   "metadata": {},
   "outputs": [
    {
     "name": "stdout",
     "output_type": "stream",
     "text": [
      "The accurary is: 98.53658536585365\n"
     ]
    }
   ],
   "source": [
    "from sklearn.neighbors import KNeighborsClassifier\n",
    "clf = KNeighborsClassifier(n_neighbors=15, leaf_size=12, p=5)\n",
    "clf.fit(x_train, y_train)\n",
    "\n",
    "y_pred = clf.predict(x_test)\n",
    "\n",
    "\n",
    "acc = metrics.accuracy_score(y_test, y_pred)\n",
    "print('The accurary is: {}'.format(acc * 100))"
   ]
  },
  {
   "cell_type": "markdown",
   "metadata": {},
   "source": [
    "We chose Random Forest Regression since it gave the best accuracy and K neighbors was over fitting."
   ]
  }
 ],
 "metadata": {
  "interpreter": {
   "hash": "7f9195a93a76989a2ecad91d5b3897882bd0002da492312d4b75a221e8807448"
  },
  "kernelspec": {
   "display_name": "Python 3.9.9 ('.venv': venv)",
   "language": "python",
   "name": "python3"
  },
  "language_info": {
   "codemirror_mode": {
    "name": "ipython",
    "version": 3
   },
   "file_extension": ".py",
   "mimetype": "text/x-python",
   "name": "python",
   "nbconvert_exporter": "python",
   "pygments_lexer": "ipython3",
   "version": "3.9.9"
  },
  "orig_nbformat": 4
 },
 "nbformat": 4,
 "nbformat_minor": 2
}
