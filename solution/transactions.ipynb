{
 "cells": [
  {
   "cell_type": "markdown",
   "metadata": {},
   "source": [
    "# Level 1: Exploring"
   ]
  },
  {
   "cell_type": "code",
   "execution_count": 82,
   "metadata": {},
   "outputs": [],
   "source": [
    "import pandas as pd\n",
    "import numpy as np\n",
    "import matplotlib.pyplot as plt"
   ]
  },
  {
   "cell_type": "code",
   "execution_count": 94,
   "metadata": {},
   "outputs": [],
   "source": [
    "df_acct = pd.read_csv('data-set/completedacct.csv')\n",
    "# df_card = pd.read_csv('data-set/completedcard.csv')\n",
    "df_client = pd.read_csv('data-set/completedclient.csv')\n",
    "df_disposition = pd.read_csv('data-set/completeddisposition.csv')\n",
    "# df_district = pd.read_csv('data-set/completeddistrict.csv')\n",
    "# df_loan = pd.read_csv('data-set/completedloan.csv')\n",
    "# df_order = pd.read_csv('data-set/completedorder.csv')\n",
    "df_trans = pd.read_csv('data-set/completedtrans.csv', low_memory=False)\n",
    "# df_crm_call = pd.read_csv('data-set/CRM Call Center Logs.csv')\n",
    "# df_crm_events = pd.read_csv('data-set/CRM Events.csv')\n",
    "# df_crm_reviews = pd.read_csv('data-set/CRM Reviews.csv')\n",
    "# df_luxury_loans = pd.read_csv('data-set/LuxuryLoanPortfolio.csv')"
   ]
  },
  {
   "cell_type": "markdown",
   "metadata": {},
   "source": [
    "1. How many transactions are there in the dataset?"
   ]
  },
  {
   "cell_type": "code",
   "execution_count": 7,
   "metadata": {},
   "outputs": [
    {
     "data": {
      "text/plain": [
       "1056320"
      ]
     },
     "execution_count": 7,
     "metadata": {},
     "output_type": "execute_result"
    }
   ],
   "source": [
    "transactions_length = len(df_trans.index)"
   ]
  },
  {
   "cell_type": "markdown",
   "metadata": {},
   "source": [
    "2. What is the value of the largest transaction made and to which account/accounts was it made?\n",
    "    a. Get the name, gender, age, and the city this client lives in"
   ]
  },
  {
   "cell_type": "code",
   "execution_count": 96,
   "metadata": {},
   "outputs": [
    {
     "data": {
      "text/html": [
       "<div>\n",
       "<style scoped>\n",
       "    .dataframe tbody tr th:only-of-type {\n",
       "        vertical-align: middle;\n",
       "    }\n",
       "\n",
       "    .dataframe tbody tr th {\n",
       "        vertical-align: top;\n",
       "    }\n",
       "\n",
       "    .dataframe thead th {\n",
       "        text-align: right;\n",
       "    }\n",
       "</style>\n",
       "<table border=\"1\" class=\"dataframe\">\n",
       "  <thead>\n",
       "    <tr style=\"text-align: right;\">\n",
       "      <th></th>\n",
       "      <th>first</th>\n",
       "      <th>middle</th>\n",
       "      <th>last</th>\n",
       "      <th>sex</th>\n",
       "      <th>age</th>\n",
       "      <th>city</th>\n",
       "    </tr>\n",
       "  </thead>\n",
       "  <tbody>\n",
       "    <tr>\n",
       "      <th>1144</th>\n",
       "      <td>Johanna</td>\n",
       "      <td>Danna</td>\n",
       "      <td>Summers</td>\n",
       "      <td>Female</td>\n",
       "      <td>19</td>\n",
       "      <td>Charleston</td>\n",
       "    </tr>\n",
       "  </tbody>\n",
       "</table>\n",
       "</div>"
      ],
      "text/plain": [
       "        first middle     last     sex  age        city\n",
       "1144  Johanna  Danna  Summers  Female   19  Charleston"
      ]
     },
     "execution_count": 96,
     "metadata": {},
     "output_type": "execute_result"
    }
   ],
   "source": [
    "max_amount = df_trans.amount.max()\n",
    "max_transactions = df_trans.loc[df_trans.amount == max_amount]\n",
    "account_id = max_transactions.iloc[0].account_id\n",
    "client_id = df_disposition.loc[df_disposition.account_id == account_id].iloc[0].client_id\n",
    "client = df_client.loc[df_client.client_id == client_id]\n",
    "client.filter(items=[\"first\",\"middle\", \"last\", \"sex\", \"age\", \"city\"])\n"
   ]
  },
  {
   "cell_type": "markdown",
   "metadata": {},
   "source": [
    "3. Which account(s) had the largest balance and what date was this? How does this compare to the balance of this\n",
    "account to the latest date?"
   ]
  },
  {
   "cell_type": "code",
   "execution_count": 61,
   "metadata": {},
   "outputs": [
    {
     "data": {
      "text/plain": [
       "str"
      ]
     },
     "execution_count": 61,
     "metadata": {},
     "output_type": "execute_result"
    }
   ],
   "source": [
    "check_type = df_trans.fulldate\n",
    "type(check_type.values[0])"
   ]
  },
  {
   "cell_type": "code",
   "execution_count": 91,
   "metadata": {},
   "outputs": [
    {
     "name": "stdout",
     "output_type": "stream",
     "text": [
      "account id: A00010520\n",
      "max balance: 209637.0 at 2017-05-06T00:00:00.000000000\n",
      "latest balance: 28240.1 at 2018-12-31 00:00:00\n"
     ]
    }
   ],
   "source": [
    "df_trans.fulldate = pd.to_datetime(df_trans.fulldate)\n",
    "max_balance_amount = df_trans.balance.max()\n",
    "account = df_trans.query(\"balance == @max_balance_amount\")\n",
    "[account_id, max_date] = [account.account_id.values[0], account.fulldate.values[0]]\n",
    "\n",
    "latest_date = df_trans.query(\"account_id == @account_id\").fulldate.max()\n",
    "latest_balance = df_trans.query(\"account_id == @account_id and fulldate == @latest_date\").balance.values[0]\n",
    "\n",
    "print(\"account id: {}\\nmax balance: {} at {}\\nlatest balance: {} at {}\".format(account_id,max_balance_amount,max_date, latest_balance, latest_date))\n",
    "\n",
    "# [max_balance_date, account_id] = [max_balances.fulldatewithtime.values[0], max_balances.account_id.values[0]]\n",
    "# max_balance_date\n",
    "# account_id\n",
    "\n",
    "# latest_balance_trans = df_trans.query(\"\")"
   ]
  },
  {
   "cell_type": "markdown",
   "metadata": {},
   "source": [
    "4. Create a histogram and box plot displaying the amounts distribution"
   ]
  }
 ],
 "metadata": {
  "interpreter": {
   "hash": "13db66a3a17b98f1cdd695e388ba987eec600dc489a24d02b0c5d716015ed484"
  },
  "kernelspec": {
   "display_name": "Python 3.10.4 ('my-env')",
   "language": "python",
   "name": "python3"
  },
  "language_info": {
   "codemirror_mode": {
    "name": "ipython",
    "version": 3
   },
   "file_extension": ".py",
   "mimetype": "text/x-python",
   "name": "python",
   "nbconvert_exporter": "python",
   "pygments_lexer": "ipython3",
   "version": "3.10.4"
  },
  "orig_nbformat": 4
 },
 "nbformat": 4,
 "nbformat_minor": 2
}
