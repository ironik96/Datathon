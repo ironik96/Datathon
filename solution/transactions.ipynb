{
 "cells": [
  {
   "cell_type": "markdown",
   "metadata": {},
   "source": [
    "# Level 1: Exploring"
   ]
  },
  {
   "cell_type": "code",
   "execution_count": 78,
   "metadata": {},
   "outputs": [],
   "source": [
    "import pandas as pd\n",
    "import numpy as np\n",
    "import matplotlib.pyplot as plt"
   ]
  },
  {
   "cell_type": "code",
   "execution_count": 22,
   "metadata": {},
   "outputs": [],
   "source": [
    "df_acct = pd.read_csv('data-set/completedacct.csv')\n",
    "# df_card = pd.read_csv('data-set/completedcard.csv')\n",
    "df_client = pd.read_csv('data-set/completedclient.csv')\n",
    "df_disposition = pd.read_csv('data-set/completeddisposition.csv')\n",
    "# df_district = pd.read_csv('data-set/completeddistrict.csv')\n",
    "# df_loan = pd.read_csv('data-set/completedloan.csv')\n",
    "# df_order = pd.read_csv('data-set/completedorder.csv')\n",
    "df_trans = pd.read_csv('data-set/completedtrans.csv', low_memory=False)\n",
    "# df_crm_call = pd.read_csv('data-set/CRM Call Center Logs.csv')\n",
    "# df_crm_events = pd.read_csv('data-set/CRM Events.csv')\n",
    "# df_crm_reviews = pd.read_csv('data-set/CRM Reviews.csv')\n",
    "# df_luxury_loans = pd.read_csv('data-set/LuxuryLoanPortfolio.csv')"
   ]
  },
  {
   "cell_type": "markdown",
   "metadata": {},
   "source": [
    "1. How many transactions are there in the dataset?"
   ]
  },
  {
   "cell_type": "code",
   "execution_count": 23,
   "metadata": {},
   "outputs": [
    {
     "data": {
      "text/plain": [
       "1056320"
      ]
     },
     "execution_count": 23,
     "metadata": {},
     "output_type": "execute_result"
    }
   ],
   "source": [
    "transactions_length = len(df_trans.index)\n",
    "transactions_length"
   ]
  },
  {
   "cell_type": "markdown",
   "metadata": {},
   "source": [
    "2. What is the value of the largest transaction made and to which account/accounts was it made?\n",
    "    a. Get the name, gender, age, and the city this client lives in"
   ]
  },
  {
   "cell_type": "code",
   "execution_count": 24,
   "metadata": {},
   "outputs": [
    {
     "data": {
      "text/html": [
       "<div>\n",
       "<style scoped>\n",
       "    .dataframe tbody tr th:only-of-type {\n",
       "        vertical-align: middle;\n",
       "    }\n",
       "\n",
       "    .dataframe tbody tr th {\n",
       "        vertical-align: top;\n",
       "    }\n",
       "\n",
       "    .dataframe thead th {\n",
       "        text-align: right;\n",
       "    }\n",
       "</style>\n",
       "<table border=\"1\" class=\"dataframe\">\n",
       "  <thead>\n",
       "    <tr style=\"text-align: right;\">\n",
       "      <th></th>\n",
       "      <th>first</th>\n",
       "      <th>middle</th>\n",
       "      <th>last</th>\n",
       "      <th>sex</th>\n",
       "      <th>age</th>\n",
       "      <th>city</th>\n",
       "    </tr>\n",
       "  </thead>\n",
       "  <tbody>\n",
       "    <tr>\n",
       "      <th>1144</th>\n",
       "      <td>Johanna</td>\n",
       "      <td>Danna</td>\n",
       "      <td>Summers</td>\n",
       "      <td>Female</td>\n",
       "      <td>19</td>\n",
       "      <td>Charleston</td>\n",
       "    </tr>\n",
       "  </tbody>\n",
       "</table>\n",
       "</div>"
      ],
      "text/plain": [
       "        first middle     last     sex  age        city\n",
       "1144  Johanna  Danna  Summers  Female   19  Charleston"
      ]
     },
     "execution_count": 24,
     "metadata": {},
     "output_type": "execute_result"
    }
   ],
   "source": [
    "max_amount = df_trans.amount.max()\n",
    "max_transactions = df_trans.loc[df_trans.amount == max_amount]\n",
    "account_id = max_transactions.iloc[0].account_id\n",
    "client_id = df_disposition.loc[df_disposition.account_id == account_id].iloc[0].client_id\n",
    "client = df_client.loc[df_client.client_id == client_id]\n",
    "client.filter(items=[\"first\",\"middle\", \"last\", \"sex\", \"age\", \"city\"])\n"
   ]
  },
  {
   "cell_type": "markdown",
   "metadata": {},
   "source": [
    "3. Which account(s) had the largest balance and what date was this? How does this compare to the balance of this\n",
    "account to the latest date?"
   ]
  },
  {
   "cell_type": "code",
   "execution_count": 25,
   "metadata": {},
   "outputs": [
    {
     "name": "stdout",
     "output_type": "stream",
     "text": [
      "account id: A00010520\n",
      "max balance: 209637.0 at 2017-05-06T00:00:00.000000000\n",
      "latest balance: 28240.1 at 2018-12-31 00:00:00\n"
     ]
    }
   ],
   "source": [
    "df_trans.fulldate = pd.to_datetime(df_trans.fulldate)\n",
    "max_balance_amount = df_trans.balance.max()\n",
    "account = df_trans.query(\"balance == @max_balance_amount\")\n",
    "[account_id, max_date] = [account.account_id.values[0], account.fulldate.values[0]]\n",
    "\n",
    "latest_date = df_trans.query(\"account_id == @account_id\").fulldate.max()\n",
    "latest_balance = df_trans.query(\"account_id == @account_id and fulldate == @latest_date\").balance.values[0]\n",
    "\n",
    "print(\"account id: {}\\nmax balance: {} at {}\\nlatest balance: {} at {}\".format(account_id,max_balance_amount,max_date, latest_balance, latest_date))"
   ]
  },
  {
   "cell_type": "markdown",
   "metadata": {},
   "source": [
    "4. Create a histogram and box plot displaying the amounts distribution"
   ]
  },
  {
   "cell_type": "code",
   "execution_count": 26,
   "metadata": {},
   "outputs": [
    {
     "data": {
      "image/png": "[encoded data removed]",
      "text/plain": [
       "<Figure size 432x288 with 1 Axes>"
      ]
     },
     "metadata": {
      "needs_background": "light"
     },
     "output_type": "display_data"
    },
    {
     "data": {
      "image/png": "[encoded data removed]",
      "text/plain": [
       "<Figure size 432x288 with 1 Axes>"
      ]
     },
     "metadata": {
      "needs_background": "light"
     },
     "output_type": "display_data"
    }
   ],
   "source": [
    "plt.hist(df_trans.amount)\n",
    "plt.show()\n",
    "plt.boxplot(df_trans.amount)\n",
    "plt.show()"
   ]
  },
  {
   "cell_type": "markdown",
   "metadata": {},
   "source": [
    "5. Split the amounts into bins:\n",
    "a. '<100'\n",
    "b. '100-250'\n",
    "c. '250-500'\n",
    "d. '500-1K'\n",
    "e. '1K-2K'\n",
    "f. '2K-4K'\n",
    "g. '4K-8K'\n",
    "h. '8K-15K'\n",
    "i. '15K-30K'\n",
    "j. '30K-60K'\n",
    "k. '>60K'"
   ]
  },
  {
   "cell_type": "code",
   "execution_count": 28,
   "metadata": {},
   "outputs": [
    {
     "data": {
      "image/png": "[encoded data removed]",
      "text/plain": [
       "<Figure size 432x288 with 1 Axes>"
      ]
     },
     "metadata": {
      "needs_background": "light"
     },
     "output_type": "display_data"
    }
   ],
   "source": [
    "bins = [0,100,250,500,1000,2000,4000,8000,15000,30000,60000,max_amount]\n",
    "plt.hist(df_trans.amount, bins=bins)\n",
    "plt.show()"
   ]
  },
  {
   "cell_type": "markdown",
   "metadata": {},
   "source": [
    "6. How many debit and credit transactions are there?\n"
   ]
  },
  {
   "cell_type": "code",
   "execution_count": 29,
   "metadata": {},
   "outputs": [
    {
     "data": {
      "text/plain": [
       "Debit     651237\n",
       "Credit    405083\n",
       "Name: type, dtype: int64"
      ]
     },
     "execution_count": 29,
     "metadata": {},
     "output_type": "execute_result"
    }
   ],
   "source": [
    "df_trans.type.value_counts()"
   ]
  },
  {
   "cell_type": "markdown",
   "metadata": {},
   "source": [
    "7. What are the different types of transaction operations?"
   ]
  },
  {
   "cell_type": "code",
   "execution_count": 42,
   "metadata": {},
   "outputs": [
    {
     "name": "stdout",
     "output_type": "stream",
     "text": [
      "Credit in Cash\n",
      "Collection from Another Bank\n",
      "Cash Withdrawal\n",
      "nan\n",
      "Remittance to Another Bank\n",
      "Credit Card Withdrawal\n"
     ]
    }
   ],
   "source": [
    "operations = df_trans.operation.unique()\n",
    "# operations = df_trans.operation.dropna().unique()\n",
    "\n",
    "for o in operations:\n",
    "    print(o)"
   ]
  },
  {
   "cell_type": "markdown",
   "metadata": {},
   "source": [
    "8. What are the different K Symbol values?\n"
   ]
  },
  {
   "cell_type": "code",
   "execution_count": 41,
   "metadata": {},
   "outputs": [
    {
     "name": "stdout",
     "output_type": "stream",
     "text": [
      "nan\n",
      "Old Age Pension\n",
      "Interest Credited\n",
      "Household\n",
      "Payment on Statement\n",
      " \n",
      "Insurance Payment\n",
      "Sanction Interest\n",
      "Loan Payment\n"
     ]
    }
   ],
   "source": [
    "symbols = df_trans.k_symbol.unique()\n",
    "# symbols = df_trans.k_symbol.dropna().unique()\n",
    "for s in symbols:\n",
    "    print(s)"
   ]
  },
  {
   "cell_type": "markdown",
   "metadata": {},
   "source": [
    "9. Which top/bottom 3 banks have the highest count of transactions?"
   ]
  },
  {
   "cell_type": "code",
   "execution_count": 54,
   "metadata": {},
   "outputs": [
    {
     "name": "stdout",
     "output_type": "stream",
     "text": [
      "Top 3\n",
      "bank\n",
      "Bank of America                  19597\n",
      "Bank of New York Mellon Corp.    21167\n",
      "Capital One                      21711\n",
      "Name: trans_id, dtype: int64\n",
      "\n",
      "\n",
      "Bottom 3\n",
      "bank\n",
      "TD Bank              22285\n",
      "U.S. Bancorp         19623\n",
      "Wells Fargo & Co.    21499\n",
      "Name: trans_id, dtype: int64\n"
     ]
    }
   ],
   "source": [
    "trans_count = df_trans.groupby(\"bank\").trans_id.count()\n",
    "print('Top 3\\n{}'.format(trans_count.head(3)))\n",
    "print(\"\\n\")\n",
    "print('Bottom 3\\n{}'.format(trans_count.tail(3)))"
   ]
  },
  {
   "cell_type": "markdown",
   "metadata": {},
   "source": [
    "10. Which top/bottom 3 banks have the highest value of transactions?"
   ]
  },
  {
   "cell_type": "code",
   "execution_count": 56,
   "metadata": {},
   "outputs": [
    {
     "name": "stdout",
     "output_type": "stream",
     "text": [
      "Top 3\n",
      "bank\n",
      "Bank of America                  104137717.9\n",
      "Bank of New York Mellon Corp.    119141947.4\n",
      "Capital One                      127567388.0\n",
      "Name: amount, dtype: float64\n",
      "\n",
      "\n",
      "Bottom 3\n",
      "bank\n",
      "TD Bank              117946247.0\n",
      "U.S. Bancorp          95541231.7\n",
      "Wells Fargo & Co.    125956293.3\n",
      "Name: amount, dtype: float64\n"
     ]
    }
   ],
   "source": [
    "trans_values = df_trans.groupby(\"bank\").amount.sum()\n",
    "print('Top 3\\n{}'.format(trans_values.head(3)))\n",
    "print(\"\\n\")\n",
    "print('Bottom 3\\n{}'.format(trans_values.tail(3)))"
   ]
  },
  {
   "cell_type": "markdown",
   "metadata": {},
   "source": [
    "# Level 2: Analyzing"
   ]
  },
  {
   "cell_type": "markdown",
   "metadata": {},
   "source": [
    "1. Which Month has the most transactions? Did this differ over the years? Visualize this"
   ]
  },
  {
   "cell_type": "code",
   "execution_count": 83,
   "metadata": {},
   "outputs": [
    {
     "data": {
      "text/plain": [
       "<AxesSubplot:xlabel='month,year'>"
      ]
     },
     "execution_count": 83,
     "metadata": {},
     "output_type": "execute_result"
    },
    {
     "data": {
      "image/png": "[encoded data removed]",
      "text/plain": [
       "<Figure size 1152x648 with 1 Axes>"
      ]
     },
     "metadata": {
      "needs_background": "light"
     },
     "output_type": "display_data"
    }
   ],
   "source": [
    "df_trans.groupby([\"month\", \"year\"]).trans_id.count().plot.bar(figsize=(16,9))"
   ]
  },
  {
   "cell_type": "markdown",
   "metadata": {},
   "source": [
    "2. Which day of the month has the most transactions? Did this differ over the years? Visualize this."
   ]
  },
  {
   "cell_type": "code",
   "execution_count": 95,
   "metadata": {},
   "outputs": [],
   "source": [
    "temp = df_trans.groupby([\"year\", \"month\",\"day\"]).trans_id.count()\n",
    "# with open('temp.csv', \"w\") as f:\n",
    "#     f.write(temp.to_csv())\n"
   ]
  }
 ],
 "metadata": {
  "interpreter": {
   "hash": "36d9f2ef7197c8f0ad133f7d32ce8963f77e0e64fe826359d22f0d0c2d854f92"
  },
  "kernelspec": {
   "display_name": "Python 3.10.4 ('dthn')",
   "language": "python",
   "name": "python3"
  },
  "language_info": {
   "codemirror_mode": {
    "name": "ipython",
    "version": 3
   },
   "file_extension": ".py",
   "mimetype": "text/x-python",
   "name": "python",
   "nbconvert_exporter": "python",
   "pygments_lexer": "ipython3",
   "version": "3.10.4"
  },
  "orig_nbformat": 4
 },
 "nbformat": 4,
 "nbformat_minor": 2
}
